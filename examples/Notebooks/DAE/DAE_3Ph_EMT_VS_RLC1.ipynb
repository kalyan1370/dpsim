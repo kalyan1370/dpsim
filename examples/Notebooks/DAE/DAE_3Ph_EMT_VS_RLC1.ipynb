{
 "cells": [
  {
   "cell_type": "markdown",
   "metadata": {},
   "source": [
    "## DAE_EMT_VS_RLC1"
   ]
  },
  {
   "cell_type": "markdown",
   "metadata": {},
   "source": [
    "### Import dpsimpy"
   ]
  },
  {
   "cell_type": "code",
   "execution_count": null,
   "metadata": {},
   "outputs": [],
   "source": [
    "import dpsimpy"
   ]
  },
  {
   "cell_type": "markdown",
   "metadata": {},
   "source": [
    "### Parameters"
   ]
  },
  {
   "cell_type": "code",
   "execution_count": null,
   "metadata": {},
   "outputs": [],
   "source": [
    "resistance = 10;\n",
    "inductance = 1e-3;\n",
    "capacitance = 5e-6;"
   ]
  },
  {
   "cell_type": "markdown",
   "metadata": {},
   "source": [
    "### Powerflow for Initialization"
   ]
  },
  {
   "cell_type": "code",
   "execution_count": null,
   "metadata": {
    "tags": []
   },
   "outputs": [],
   "source": [
    "sim_name_pf = 'DAE_VS_RLC1_PF'\n",
    "dpsimpy.Logger.set_log_dir(\"logs/\" + sim_name_pf)\n",
    "\n",
    "# Nodes\n",
    "gnd_pf = dpsimpy.sp.SimNode.gnd\n",
    "n1_pf  = dpsimpy.sp.SimNode('n1_pf')\n",
    "n2_pf  = dpsimpy.sp.SimNode('n2_pf')\n",
    "n3_pf  = dpsimpy.sp.SimNode('n3_pf')\n",
    "\n",
    "# Components\n",
    "vs_pf = dpsimpy.sp.ph1.VoltageSource('vs_pf', dpsimpy.LogLevel.debug)\n",
    "vs_pf.set_parameters(V_ref=complex(10,0), f_src=50)\n",
    "r1_pf = dpsimpy.sp.ph1.Resistor('r1_pf', dpsimpy.LogLevel.debug)\n",
    "r1_pf.set_parameters(R=resistance)\n",
    "c1_pf = dpsimpy.sp.ph1.Capacitor('c1_pf', dpsimpy.LogLevel.debug)\n",
    "c1_pf.set_parameters(C=capacitance)\n",
    "l1_pf = dpsimpy.sp.ph1.Inductor('l1_pf', dpsimpy.LogLevel.debug)\n",
    "l1_pf.set_parameters(L=inductance)\n",
    "\n",
    "# Connections\n",
    "vs_pf.connect([gnd_pf, n1_pf])\n",
    "r1_pf.connect([n2_pf, n1_pf])\n",
    "l1_pf.connect([n3_pf, n2_pf])\n",
    "c1_pf.connect([gnd_pf, n3_pf])\n",
    "\n",
    "# Define system topology\n",
    "system_pf = dpsimpy.SystemTopology(50, [n1_pf, n2_pf, n3_pf], [vs_pf, r1_pf, l1_pf, c1_pf])\n",
    "\n",
    "# Logging\n",
    "logger_pf = dpsimpy.Logger(sim_name_pf)\n",
    "logger_pf.log_attribute('n1.v', 'v', n1_pf)\n",
    "logger_pf.log_attribute('n2.v', 'v', n2_pf)\n",
    "logger_pf.log_attribute('n3.v', 'v', n3_pf)\n",
    "logger_pf.log_attribute('r1.i_intf', 'i_intf', r1_pf)\n",
    "logger_pf.log_attribute('l1.i_intf', 'i_intf', l1_pf)\n",
    "\n",
    "sim_pf = dpsimpy.Simulation(sim_name_pf, dpsimpy.LogLevel.debug)\n",
    "sim_pf.set_system(system_pf)\n",
    "sim_pf.set_domain(dpsimpy.Domain.SP)\n",
    "sim_pf.set_time_step(0.1)\n",
    "sim_pf.set_final_time(0.5)\n",
    "sim_pf.add_logger(logger_pf)\n",
    "sim_pf.run()"
   ]
  },
  {
   "cell_type": "markdown",
   "metadata": {},
   "source": [
    "### DPsim EMT"
   ]
  },
  {
   "cell_type": "code",
   "execution_count": null,
   "metadata": {},
   "outputs": [],
   "source": [
    "### DPsim EMT simulation\n",
    "name = 'DAE_Ph3_VS_RLC1'\n",
    "dpsimpy.Logger.set_log_dir(\"logs/\" + name)\n",
    "timeStep = 0.0001;\n",
    "\n",
    "### absolute tolerances\n",
    "voltage_tol = 1e-8\n",
    "current_tol = 1e-6\n",
    "    \n",
    "### Nodes\n",
    "gnd = dpsimpy.emt.SimNode.gnd\n",
    "n1 = dpsimpy.emt.SimNode('n1', dpsimpy.PhaseType.ABC) \n",
    "n1.set_initial_voltage(dpsimpy.Math.single_phase_variable_to_three_phase(sim_pf.get_idobj_attr(n1_pf.name(), 'v').get()[0][0]))\n",
    "n1.dae_set_abs_tolerance(voltage_tol)\n",
    "n2 = dpsimpy.emt.SimNode('n2', dpsimpy.PhaseType.ABC)\n",
    "n2.set_initial_voltage(dpsimpy.Math.single_phase_variable_to_three_phase(sim_pf.get_idobj_attr(n2_pf.name(), 'v').get()[0][0]))\n",
    "n2.dae_set_abs_tolerance(voltage_tol)\n",
    "n3 = dpsimpy.emt.SimNode('n3', dpsimpy.PhaseType.ABC) \n",
    "n3.set_initial_voltage(dpsimpy.Math.single_phase_variable_to_three_phase(sim_pf.get_idobj_attr(n3_pf.name(), 'v').get()[0][0]))\n",
    "n3.dae_set_abs_tolerance(voltage_tol)\n",
    "\n",
    "\n",
    "### Components\n",
    "\n",
    "# voltage source\n",
    "vs = dpsimpy.emt.ph3.VoltageSource('vs', dpsimpy.LogLevel.debug)\n",
    "vs.set_parameters(V_ref=dpsimpy.Math.single_phase_variable_to_three_phase(complex(10,0)), f_src=50)\n",
    "vs.dae_set_abs_tolerance(voltage_tol)\n",
    "\n",
    "# resistor\n",
    "r1 = dpsimpy.emt.ph3.Resistor('r1', dpsimpy.LogLevel.debug)\n",
    "r1.set_parameters(R=dpsimpy.Math.single_phase_parameter_to_three_phase(resistance))\n",
    "r1.dae_set_abs_tolerance(voltage_tol)\n",
    "\n",
    "# capacitor\n",
    "c1 = dpsimpy.emt.ph3.Capacitor('c1', dpsimpy.LogLevel.debug)\n",
    "c1.set_parameters(C=dpsimpy.Math.single_phase_parameter_to_three_phase(capacitance))\n",
    "\n",
    "l1 = dpsimpy.emt.ph3.Inductor('l1', dpsimpy.LogLevel.debug)\n",
    "l1.set_parameters(L=dpsimpy.Math.single_phase_parameter_to_three_phase(inductance))\n",
    "l1.dae_set_abs_tolerance(current_tol)\n",
    "\n",
    "\n",
    "### Connections\n",
    "vs.connect([gnd, n1])\n",
    "r1.connect([n2, n1])\n",
    "l1.connect([n3, n2])\n",
    "c1.connect([gnd, n3])\n",
    "\n",
    "### Define system topology\n",
    "system = dpsimpy.SystemTopology(50, [n1, n2, n3], [vs, r1, l1, c1])\n",
    "\n",
    "### Logging\n",
    "logger = dpsimpy.Logger(name)\n",
    "logger.log_attribute('n1.v', 'v', n1)\n",
    "logger.log_attribute('n2.v', 'v', n2)\n",
    "logger.log_attribute('n3.v', 'v', n3)\n",
    "logger.log_attribute('vs', 'v_intf', vs);\n",
    "logger.log_attribute('vl', 'v_intf', l1);\n",
    "logger.log_attribute('vc', 'v_intf', c1);\n",
    "logger.log_attribute('dvc', 'dv_intf', c1);\n",
    "logger.log_attribute('vr', 'v_intf', r1);\n",
    "logger.log_attribute('i', 'i_intf', l1);\n",
    "logger.log_attribute('di', 'di_intf', l1);\n",
    "\n",
    "### Simulation\n",
    "sim = dpsimpy.Simulation(name, dpsimpy.LogLevel.debug)\n",
    "sim.set_system(system)\n",
    "sim.set_solver(dpsimpy.Solver.DAE)\n",
    "sim.set_domain(dpsimpy.Domain.EMT)\n",
    "sim.set_min_step_size(1e-6)\n",
    "sim.set_max_step_size(1e-3)\n",
    "sim.set_relative_rolerance(1e-4)\n",
    "sim.set_time_step(timeStep)\n",
    "sim.set_max_err_test_fails(15)\n",
    "sim.set_final_time(0.1)\n",
    "sim.add_logger(logger)\n",
    "vs.set_initial_current(-sim_pf.get_idobj_attr(r1_pf.name(), 'i_intf').get());    \n",
    "sim.run()\n",
    "del sim"
   ]
  },
  {
   "cell_type": "markdown",
   "metadata": {},
   "source": [
    "### Read Results DPSim"
   ]
  },
  {
   "cell_type": "code",
   "execution_count": null,
   "metadata": {},
   "outputs": [],
   "source": [
    "# read Simulink log file\n",
    "\n",
    "import matplotlib.pyplot as plt\n",
    "import villas.dataprocessing.readtools as rt\n",
    "import os\n",
    "\n",
    "# read EMT results\n",
    "file_path = os.getcwd() + \"/logs/DAE_Ph3_VS_RLC1/DAE_Ph3_VS_RLC1.csv\"\n",
    "ts_dpsim_emt = rt.read_timeseries_dpsim(file_path)"
   ]
  },
  {
   "cell_type": "markdown",
   "metadata": {},
   "source": [
    "### Read Modelica Results"
   ]
  },
  {
   "cell_type": "code",
   "execution_count": null,
   "metadata": {},
   "outputs": [],
   "source": [
    "import urllib.request\n",
    "url = 'https://git.rwth-aachen.de/acs/public/simulation/reference-results/-/raw/18f44dab4b5193855d0c1712dcb98064257e6aee/Modelica/BasicGrids/VS_RLC1.csv'\n",
    "local_file = 'Results_DAE_EMT_VS_RLC1_Modelica.csv'\n",
    "urllib.request.urlretrieve(url, local_file) \n",
    "ts_modelica_emt = rt.read_timeseries_dpsim(local_file)"
   ]
  },
  {
   "cell_type": "markdown",
   "metadata": {},
   "source": [
    "### Plot Results DPSim"
   ]
  },
  {
   "cell_type": "code",
   "execution_count": null,
   "metadata": {
    "tags": []
   },
   "outputs": [],
   "source": [
    "# define region of interest\n",
    "common_time = 50e-6\n",
    "roi_start = 0\n",
    "roi_end = 0.04\n",
    "roi = range(int(roi_start/common_time), int(roi_end/common_time))\n",
    "\n",
    "# current \n",
    "width = 12\n",
    "height = 3\n",
    "fig = plt.figure(figsize=(width, height))\n",
    "fig.suptitle('Current', fontsize=12)\n",
    "plt.subplot(1, 2, 1)\n",
    "plt.plot(ts_dpsim_emt['i_0'].interpolate(common_time).time[roi], ts_dpsim_emt['i_0'].interpolate(common_time).values[roi] * dpsimpy.PEAK1PH_TO_RMS3PH, label='i_0 - DPSim')\n",
    "plt.plot(ts_dpsim_emt['i_1'].interpolate(common_time).time[roi], ts_dpsim_emt['i_1'].interpolate(common_time).values[roi] * dpsimpy.PEAK1PH_TO_RMS3PH, label='i_1 - DPSim')\n",
    "plt.plot(ts_dpsim_emt['i_2'].interpolate(common_time).time[roi], ts_dpsim_emt['i_2'].interpolate(common_time).values[roi] * dpsimpy.PEAK1PH_TO_RMS3PH, label='i_2 - DPSim')\n",
    "plt.plot(ts_modelica_emt['inductor.i'].interpolate(common_time).time[roi], ts_modelica_emt['inductor.i'].interpolate(common_time).values[roi], '--', label='i - Modelica')\n",
    "plt.plot(ts_modelica_emt['inductor.i'].interpolate(common_time).time[roi], ts_modelica_emt['inductor.i'].interpolate(common_time).values[roi] - ts_dpsim_emt['i_0'].interpolate(common_time).values[roi] * dpsimpy.PEAK1PH_TO_RMS3PH, label='difference')\n",
    "\n",
    "plt.legend(loc='lower right')\n",
    "plt.subplot(1, 2, 2)\n",
    "plt.plot(ts_dpsim_emt['di_0'].interpolate(common_time).time[roi], ts_dpsim_emt['di_0'].interpolate(common_time).values[roi] * dpsimpy.PEAK1PH_TO_RMS3PH, label='di_0 - DPSim')\n",
    "plt.plot(ts_modelica_emt['der(voltageSource.i)'].interpolate(common_time).time[roi], -ts_modelica_emt['der(voltageSource.i)'].interpolate(common_time).values[roi], '--', label='di - Modelica')\n",
    "plt.plot(ts_modelica_emt['der(voltageSource.i)'].interpolate(common_time).time[roi], -ts_modelica_emt['der(voltageSource.i)'].interpolate(common_time).values[roi] - ts_dpsim_emt['di_0'].interpolate(common_time).values[roi] * dpsimpy.PEAK1PH_TO_RMS3PH, label='difference')\n",
    "plt.legend(loc='lower right')\n",
    "\n",
    "# component voltages \n",
    "width = 18\n",
    "height = 3\n",
    "fig = plt.figure(figsize=(width, height))\n",
    "fig.suptitle('Voltages', fontsize=12)\n",
    "plt.subplot(1, 5, 1)\n",
    "plt.plot(ts_dpsim_emt['vs_0'].interpolate(common_time).time[roi], ts_dpsim_emt['vs_0'].interpolate(common_time).values[roi] * dpsimpy.PEAK1PH_TO_RMS3PH, label='vs voltage - DPSim')\n",
    "plt.plot(ts_modelica_emt['voltageSource.v'].interpolate(common_time).time[roi], ts_modelica_emt['voltageSource.v'].interpolate(common_time).values[roi], '--', label='vs voltage - Modelica')\n",
    "plt.plot(ts_modelica_emt['voltageSource.v'].interpolate(common_time).time[roi], ts_modelica_emt['voltageSource.v'].interpolate(common_time).values[roi] - ts_dpsim_emt['vs_0'].interpolate(common_time).values[roi] * dpsimpy.PEAK1PH_TO_RMS3PH, label='difference')\n",
    "plt.legend(loc='lower right')\n",
    "plt.subplot(1, 5, 2)\n",
    "plt.plot(ts_dpsim_emt['vc_0'].interpolate(common_time).time[roi], ts_dpsim_emt['vc_0'].interpolate(common_time).values[roi] * dpsimpy.PEAK1PH_TO_RMS3PH, label='vc_0 - DPSim')\n",
    "plt.plot(ts_modelica_emt['capacitor.v'].interpolate(common_time).time[roi], ts_modelica_emt['capacitor.v'].interpolate(common_time).values[roi], '--', label='vc - Modelica')\n",
    "plt.plot(ts_modelica_emt['capacitor.v'].interpolate(common_time).time[roi], ts_modelica_emt['capacitor.v'].interpolate(common_time).values[roi] - ts_dpsim_emt['vc_0'].interpolate(common_time).values[roi] * dpsimpy.PEAK1PH_TO_RMS3PH, label='difference')\n",
    "plt.legend(loc='lower right')\n",
    "plt.subplot(1, 5, 3)\n",
    "plt.plot(ts_dpsim_emt['vl_0'].interpolate(common_time).time[roi], ts_dpsim_emt['vl_0'].interpolate(common_time).values[roi] * dpsimpy.PEAK1PH_TO_RMS3PH, label='vl_0 - DPSim')\n",
    "plt.plot(ts_modelica_emt['inductor.v'].interpolate(common_time).time[roi], ts_modelica_emt['inductor.v'].interpolate(common_time).values[roi], '--', label='vl - Modelica')\n",
    "plt.plot(ts_modelica_emt['inductor.v'].interpolate(common_time).time[roi], ts_modelica_emt['inductor.v'].interpolate(common_time).values[roi] - ts_dpsim_emt['vl_0'].interpolate(common_time).values[roi] * dpsimpy.PEAK1PH_TO_RMS3PH, label='difference')\n",
    "plt.legend(loc='lower right')\n",
    "plt.subplot(1, 5, 4)\n",
    "plt.plot(ts_dpsim_emt['vr_0'].interpolate(common_time).time[roi], ts_dpsim_emt['vr_0'].interpolate(common_time).values[roi] * dpsimpy.PEAK1PH_TO_RMS3PH, label='vr_0 - DPSim')\n",
    "plt.plot(ts_modelica_emt['resistor.v'].interpolate(common_time).time[roi], ts_modelica_emt['resistor.v'].interpolate(common_time).values[roi], '--', label='vr - Modelica')\n",
    "plt.plot(ts_modelica_emt['inductor.v'].interpolate(common_time).time[roi], ts_modelica_emt['resistor.v'].interpolate(common_time).values[roi] - ts_dpsim_emt['vr_0'].interpolate(common_time).values[roi] * dpsimpy.PEAK1PH_TO_RMS3PH, label='difference')\n",
    "plt.legend(loc='lower right')\n",
    "plt.subplot(1, 5, 5)\n",
    "plt.plot(ts_dpsim_emt['dvc_0'].interpolate(common_time).time[roi], ts_dpsim_emt['dvc_0'].interpolate(common_time).values[roi] * dpsimpy.PEAK1PH_TO_RMS3PH, label='dvc_0 - DPSim')\n",
    "plt.plot(ts_modelica_emt['der(capacitor.v)'].interpolate(common_time).time[roi], ts_modelica_emt['der(capacitor.v)'].interpolate(common_time).values[roi], '--', label='dvc - Modelica')\n",
    "plt.plot(ts_modelica_emt['der(capacitor.v)'].interpolate(common_time).time[roi], ts_modelica_emt['der(capacitor.v)'].interpolate(common_time).values[roi] - ts_dpsim_emt['dvc_0'].interpolate(common_time).values[roi] * dpsimpy.PEAK1PH_TO_RMS3PH, label='difference')\n",
    "plt.legend(loc='lower right')"
   ]
  },
  {
   "cell_type": "markdown",
   "metadata": {},
   "source": [
    "### Assert"
   ]
  },
  {
   "cell_type": "code",
   "execution_count": null,
   "metadata": {},
   "outputs": [],
   "source": [
    "#compare voltages\n",
    "time = ts_dpsim_emt['vs_0'].interpolate(common_time).time[roi]\n",
    "dif_vs = ts_modelica_emt['voltageSource.v'].interpolate(common_time).values[roi] - ts_dpsim_emt['vs_0'].interpolate(common_time).values[roi] * dpsimpy.PEAK1PH_TO_RMS3PH\n",
    "dif_vr = ts_modelica_emt['resistor.v'].interpolate(common_time).values[roi] - ts_dpsim_emt['vr_0'].interpolate(common_time).values[roi] * dpsimpy.PEAK1PH_TO_RMS3PH\n",
    "dif_vl = ts_modelica_emt['inductor.v'].interpolate(common_time).values[roi] - ts_dpsim_emt['vl_0'].interpolate(common_time).values[roi] * dpsimpy.PEAK1PH_TO_RMS3PH\n",
    "dif_vc = ts_modelica_emt['capacitor.v'].interpolate(common_time).values[roi] - ts_dpsim_emt['vc_0'].interpolate(common_time).values[roi] * dpsimpy.PEAK1PH_TO_RMS3PH\n",
    "dif_dvc = ts_modelica_emt['der(capacitor.v)'].interpolate(common_time).values[roi] - ts_dpsim_emt['dvc_0'].interpolate(common_time).values[roi] * dpsimpy.PEAK1PH_TO_RMS3PH\n",
    "\n",
    "#compare current\n",
    "dif_i = ts_modelica_emt['inductor.i'].interpolate(common_time).values[roi] - ts_dpsim_emt['i_0'].interpolate(common_time).values[roi] * dpsimpy.PEAK1PH_TO_RMS3PH\n",
    "dif_di = -ts_modelica_emt['der(voltageSource.i)'].interpolate(common_time).values[roi] - ts_dpsim_emt['di_0'].interpolate(common_time).values[roi] * dpsimpy.PEAK1PH_TO_RMS3PH\n",
    "threashold_voltage = 0.001\n",
    "threashold_dvoltage = 1.3\n",
    "threashold_current = 0.0001\n",
    "threashold_dcurrent = 0.035\n",
    "\n",
    "import numpy as np\n",
    "assert np.all(abs(dif_vs)<threashold_voltage)\n",
    "assert np.all(abs(dif_vr)<threashold_voltage)\n",
    "assert np.all(abs(dif_vl)<threashold_voltage)\n",
    "assert np.all(abs(dif_vc)<threashold_voltage)\n",
    "assert np.all(abs(dif_dvc)<threashold_dvoltage)\n",
    "assert np.all(abs(dif_i)<threashold_current)\n",
    "assert np.all(abs(dif_di)<threashold_dcurrent)\n"
   ]
  }
 ],
 "metadata": {
  "kernelspec": {
   "display_name": "Python 3 (ipykernel)",
   "language": "python",
   "name": "python3"
  },
  "language_info": {
   "codemirror_mode": {
    "name": "ipython",
    "version": 3
   },
   "file_extension": ".py",
   "mimetype": "text/x-python",
   "name": "python",
   "nbconvert_exporter": "python",
   "pygments_lexer": "ipython3",
   "version": "3.9.13"
  },
  "tests": {
   "skip": false
  },
  "vscode": {
   "interpreter": {
    "hash": "e7370f93d1d0cde622a1f8e1c04877d8463912d04d973331ad4851f04de6915a"
   }
  }
 },
 "nbformat": 4,
 "nbformat_minor": 4
}
