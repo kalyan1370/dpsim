{
 "cells": [
  {
   "attachments": {},
   "cell_type": "markdown",
   "metadata": {},
   "source": [
    "# Trafo Tests"
   ]
  },
  {
   "cell_type": "code",
   "execution_count": 1,
   "metadata": {},
   "outputs": [],
   "source": [
    "import villas.dataprocessing.readtools as rt\n",
    "from villas.dataprocessing.timeseries import TimeSeries as ts\n",
    "import matplotlib.pyplot as plt\n",
    "import numpy as np\n",
    "\n",
    "\n",
    "import sys\n",
    "sys.path.insert(0,'/home/mmo/git/kalyan/dpsim/build')\n",
    "sys.path.remove('/home/mmo/git/lund-anm-control')\n",
    "import dpsimpy\n",
    "\n",
    "# %matplotlib widget\n",
    "\n",
    "epsilon = 1e-12\n",
    "epsilon = 0.068\n",
    "\n",
    "PEAK1PH_TO_RMS3PH = np.sqrt(3/2)"
   ]
  },
  {
   "attachments": {},
   "cell_type": "markdown",
   "metadata": {},
   "source": [
    "## SP Trafo Elements Simulation"
   ]
  },
  {
   "cell_type": "code",
   "execution_count": null,
   "metadata": {},
   "outputs": [],
   "source": [
    "time_step = 0.00005\n",
    "final_time = 1\n",
    "sim_name = 'SP_Trafo_Elements'\n",
    "frequency = 50\n",
    "omega = 2 * np.pi * frequency\n",
    "dpsimpy.Logger.set_log_dir('logs/' + sim_name)\n",
    "\n",
    "voltage_hv_side = 100000\n",
    "voltage_mv_side = 10000\n",
    "trafo_resistance = 1\n",
    "trafo_inductance = 0.1\n",
    "trafo_power = 1e6\n",
    "load_resistance_hv_side = 10000\n",
    "ratio = voltage_hv_side / voltage_mv_side\n",
    "\n",
    "n1 = dpsimpy.sp.SimNode('n1')\n",
    "n1.set_initial_voltage(complex(voltage_hv_side, 0))\n",
    "n2 = dpsimpy.sp.SimNode('n2')\n",
    "n2.set_initial_voltage(complex(99989.01435, -314.09334))\n",
    "vn1 = dpsimpy.sp.SimNode('vn1')\n",
    "vn1.set_initial_voltage(complex(99990.001099, 0.031409))\n",
    "gnd = dpsimpy.sp.SimNode.gnd\n",
    "\n",
    "vs = dpsimpy.sp.ph1.VoltageSource('v_1')\n",
    "trafo_res = dpsimpy.sp.ph1.Resistor('trafo_res')\n",
    "trafo_ind = dpsimpy.sp.ph1.Inductor('trafo_ind')\n",
    "load_res = dpsimpy.sp.ph1.Resistor('r_1')\n",
    "\n",
    "vs.connect([gnd, n1])\n",
    "trafo_res.connect([n1, vn1])\n",
    "trafo_ind.connect([vn1, n2])\n",
    "load_res.connect([n2, gnd])\n",
    "\n",
    "vs.set_parameters(complex(voltage_hv_side, 0))\n",
    "trafo_res.set_parameters(trafo_resistance)\n",
    "trafo_ind.set_parameters(trafo_inductance)\n",
    "load_res.set_parameters(load_resistance_hv_side)\n",
    "\n",
    "sys = dpsimpy.SystemTopology(50, [n1, n2, vn1], [vs, trafo_res, trafo_ind, load_res])\n",
    "\n",
    "logger = dpsimpy.Logger(sim_name)\n",
    "logger.log_attribute('v1', 'v', n1)\n",
    "logger.log_attribute('v2', 'v', n2)\n",
    "logger.log_attribute('vn1', 'v', vn1)\n",
    "logger.log_attribute('itrafo', 'i_intf', trafo_ind)\n",
    "\n",
    "sim = dpsimpy.Simulation(sim_name)\n",
    "sim.set_system(sys)\n",
    "sim.set_time_step(time_step)\n",
    "sim.set_final_time(final_time)\n",
    "sim.add_logger(logger)\n",
    "sim.set_domain(dpsimpy.Domain.SP)\n",
    "\n",
    "sim.run()"
   ]
  },
  {
   "attachments": {},
   "cell_type": "markdown",
   "metadata": {},
   "source": [
    "## SP Trafo Component Simulation"
   ]
  },
  {
   "cell_type": "code",
   "execution_count": null,
   "metadata": {},
   "outputs": [],
   "source": [
    "time_step = 0.00005\n",
    "final_time = 1\n",
    "sim_name = 'SP_Trafo_Component'\n",
    "dpsimpy.Logger.set_log_dir('logs/' + sim_name)\n",
    "\n",
    "voltage_hv_side = 100000\n",
    "voltage_mv_side = 10000\n",
    "trafo_resistance = 1\n",
    "trafo_inductance = 0.1\n",
    "load_resistance_hv_side = 10000\n",
    "ratio = voltage_hv_side / voltage_mv_side\n",
    "load_resistance_mv_side = load_resistance_hv_side / ratio**2\n",
    "\n",
    "n1 = dpsimpy.sp.SimNode('n1')\n",
    "n1.set_initial_voltage(complex(voltage_hv_side, 0))\n",
    "n2 = dpsimpy.sp.SimNode('n2')\n",
    "n2.set_initial_voltage(complex(9998.901435, -31.409334))\n",
    "gnd = dpsimpy.sp.SimNode.gnd\n",
    "\n",
    "vs = dpsimpy.sp.ph1.VoltageSource('v_1', dpsimpy.LogLevel.debug)\n",
    "trafo = dpsimpy.sp.ph1.Transformer('trafo', 'trafo', dpsimpy.LogLevel.debug)\n",
    "load_res = dpsimpy.sp.ph1.Resistor('r_1', dpsimpy.LogLevel.debug)\n",
    "\n",
    "vs.connect([gnd, n1])\n",
    "trafo.connect([n1, n2])\n",
    "load_res.connect([n2, gnd])\n",
    "\n",
    "vs.set_parameters(complex(voltage_hv_side, 0))\n",
    "trafo.set_parameters(voltage_hv_side, voltage_mv_side, trafo_power, ratio, 0,\n",
    "    trafo_resistance, trafo_inductance)\n",
    "load_res.set_parameters(load_resistance_mv_side)\n",
    "\n",
    "sys = dpsimpy.SystemTopology(50, [n1, n2], [vs, trafo, load_res])\n",
    "\n",
    "logger = dpsimpy.Logger(sim_name)\n",
    "logger.log_attribute('v1', 'v', n1)\n",
    "logger.log_attribute('v2', 'v', n2)\n",
    "logger.log_attribute('itrafo', 'primary_current', trafo) #primary side current\n",
    "#logger.log_attribute('itrafo_sec', 'secondary_current', trafo)\n",
    "logger.log_attribute('LV_trafo_prim', 'primary_voltage_LVside', trafo)\n",
    "logger.log_attribute('LV_trafo_sec', 'secondary_voltage_LVside', trafo)\n",
    "\n",
    "\n",
    "sim = dpsimpy.Simulation(sim_name)\n",
    "sim.set_system(sys)\n",
    "sim.set_time_step(time_step)\n",
    "sim.set_final_time(final_time)\n",
    "sim.add_logger(logger)\n",
    "sim.set_domain(dpsimpy.Domain.SP)\n",
    "\n",
    "sim.run()"
   ]
  },
  {
   "attachments": {},
   "cell_type": "markdown",
   "metadata": {},
   "source": [
    "## DP Trafo Elements Simulation"
   ]
  },
  {
   "cell_type": "code",
   "execution_count": 11,
   "metadata": {},
   "outputs": [
    {
     "name": "stderr",
     "output_type": "stream",
     "text": [
      "[12:07:24.152859 MnaSolverFactory info] creating SparseLUAdapter solver implementation\n"
     ]
    }
   ],
   "source": [
    "time_step = 0.00005\n",
    "final_time = 1\n",
    "sim_name = 'DP_Trafo_Elements'\n",
    "frequency = 50\n",
    "omega = 2 * np.pi * frequency\n",
    "dpsimpy.Logger.set_log_dir('logs/' + sim_name)\n",
    "\n",
    "voltage_hv_side = 100000\n",
    "voltage_mv_side = 10000\n",
    "trafo_resistance = 1\n",
    "trafo_inductance = 0.1\n",
    "load_resistance_hv_side = 10000\n",
    "ratio = voltage_hv_side / voltage_mv_side\n",
    "\n",
    "n1 = dpsimpy.dp.SimNode('n1')\n",
    "n1.set_initial_voltage(complex(voltage_hv_side, 0))\n",
    "n2 = dpsimpy.dp.SimNode('n2')\n",
    "n2.set_initial_voltage(complex(99989.159386, -314.413354))\n",
    "vn1 = dpsimpy.dp.SimNode('vn1')\n",
    "vn1.set_initial_voltage(complex(99989.991069, 0.026473))\n",
    "gnd = dpsimpy.dp.SimNode.gnd\n",
    "\n",
    "vs = dpsimpy.dp.ph1.VoltageSource('v_1', dpsimpy.LogLevel.debug)\n",
    "trafo_res = dpsimpy.dp.ph1.Resistor('trafo_res', dpsimpy.LogLevel.debug)\n",
    "trafo_ind = dpsimpy.dp.ph1.Inductor('trafo_ind', dpsimpy.LogLevel.debug)\n",
    "load_res = dpsimpy.dp.ph1.Resistor('r_1', dpsimpy.LogLevel.debug)\n",
    "\n",
    "vs.connect([gnd, n1])\n",
    "trafo_res.connect([n1, vn1])\n",
    "trafo_ind.connect([vn1, n2])\n",
    "load_res.connect([n2, gnd])\n",
    "\n",
    "vs.set_parameters(complex(voltage_hv_side, 0))\n",
    "trafo_res.set_parameters(trafo_resistance)\n",
    "trafo_ind.set_parameters(trafo_inductance)\n",
    "load_res.set_parameters(load_resistance_hv_side)\n",
    "\n",
    "sys = dpsimpy.SystemTopology(50, [n1, n2, vn1], [vs, trafo_res, trafo_ind, load_res])\n",
    "\n",
    "logger = dpsimpy.Logger(sim_name)\n",
    "logger.log_attribute('v1', 'v', n1)\n",
    "logger.log_attribute('v2', 'v', n2)\n",
    "logger.log_attribute('vn1', 'v', vn1)\n",
    "logger.log_attribute('itrafo', 'i_intf', trafo_ind)\n",
    "\n",
    "sim = dpsimpy.Simulation(sim_name, dpsimpy.LogLevel.debug)\n",
    "sim.set_system(sys)\n",
    "sim.set_time_step(time_step)\n",
    "sim.set_final_time(final_time)\n",
    "sim.add_logger(logger)\n",
    "sim.set_domain(dpsimpy.Domain.DP)\n",
    "\n",
    "sim.run()"
   ]
  },
  {
   "attachments": {},
   "cell_type": "markdown",
   "metadata": {},
   "source": [
    "## DP Trafo Component Simulation"
   ]
  },
  {
   "cell_type": "code",
   "execution_count": 9,
   "metadata": {},
   "outputs": [
    {
     "name": "stderr",
     "output_type": "stream",
     "text": [
      "[12:05:41.554900 MnaSolverFactory info] creating SparseLUAdapter solver implementation\n",
      "[*** LOG ERROR #0002 ***] [2023-05-31 12:05:41] [trafo] {argument not found}\n"
     ]
    }
   ],
   "source": [
    "time_step = 0.00005\n",
    "final_time = 1\n",
    "sim_name = 'DP_Trafo_Component'\n",
    "dpsimpy.Logger.set_log_dir('logs/' + sim_name)\n",
    "\n",
    "voltage_hv_side = 100000\n",
    "voltage_mv_side = 10000\n",
    "trafo_resistance = 1\n",
    "trafo_inductance = 0.1\n",
    "load_resistance_hv_side = 10000\n",
    "ratio = voltage_hv_side / voltage_mv_side\n",
    "load_resistance_mv_side = load_resistance_hv_side / ratio**2\n",
    "\n",
    "n1 = dpsimpy.dp.SimNode('n1')\n",
    "n1.set_initial_voltage(complex(voltage_hv_side, 0))\n",
    "n2 = dpsimpy.dp.SimNode('n2')\n",
    "n2.set_initial_voltage(complex(9998.9159386, -31.4413354))\n",
    "gnd = dpsimpy.dp.SimNode.gnd\n",
    "\n",
    "vs = dpsimpy.dp.ph1.VoltageSource('v_1', dpsimpy.LogLevel.debug)\n",
    "trafo = dpsimpy.dp.ph1.Transformer('trafo', dpsimpy.LogLevel.debug)\n",
    "load_res = dpsimpy.dp.ph1.Resistor('r_1', dpsimpy.LogLevel.debug)\n",
    "\n",
    "vs.connect([gnd, n1])\n",
    "trafo.connect([n1, n2])\n",
    "load_res.connect([n2, gnd])\n",
    "\n",
    "vs.set_parameters(complex(voltage_hv_side, 0))\n",
    "trafo.set_parameters(voltage_hv_side, voltage_mv_side, ratio, 0, trafo_resistance, trafo_inductance)\n",
    "load_res.set_parameters(load_resistance_mv_side)\n",
    "\n",
    "sys = dpsimpy.SystemTopology(50, [n1, n2], [vs, trafo, load_res])\n",
    "\n",
    "logger = dpsimpy.Logger(sim_name)\n",
    "logger.log_attribute('v1', 'v', n1)\n",
    "logger.log_attribute('v2', 'v', n2)\n",
    "logger.log_attribute('itrafo', 'i_intf', trafo)\n",
    "\n",
    "sim = dpsimpy.Simulation(sim_name)\n",
    "sim.set_system(sys)\n",
    "sim.set_time_step(time_step)\n",
    "sim.set_final_time(final_time)\n",
    "sim.add_logger(logger)\n",
    "sim.set_domain(dpsimpy.Domain.DP)\n",
    "\n",
    "sim.run()"
   ]
  },
  {
   "attachments": {},
   "cell_type": "markdown",
   "metadata": {},
   "source": [
    "## EMT Trafo Elements Simulation"
   ]
  },
  {
   "cell_type": "code",
   "execution_count": null,
   "metadata": {},
   "outputs": [],
   "source": [
    "time_step = 0.00005\n",
    "final_time = 1\n",
    "sim_name = 'EMT_Trafo_Elements'\n",
    "frequency = 50\n",
    "omega = 2 * np.pi * frequency\n",
    "dpsimpy.Logger.set_log_dir('logs/' + sim_name)\n",
    "\n",
    "voltage_hv_side = 100000\n",
    "voltage_mv_side = 10000\n",
    "trafo_resistance = 1\n",
    "trafo_inductance = 0.1\n",
    "trafo_power = 1e6\n",
    "p_snub = dpsimpy.P_SNUB_TRANSFORMER * trafo_power\n",
    "q_snub = dpsimpy.Q_SNUB_TRANSFORMER * trafo_power\n",
    "load_resistance_hv_side = 10000\n",
    "ratio = voltage_hv_side / voltage_mv_side\n",
    "snubber_resistance_hv_side = np.abs(voltage_hv_side)**2 / p_snub\n",
    "snubber_resistance_mv_side_to_hv_side = ratio**2 * np.abs(voltage_mv_side)**2 / p_snub\n",
    "snubber_capacitance_mv_side_to_hv_side = 1/(omega * ratio**2 * np.abs(voltage_mv_side)**2 / q_snub) \n",
    "\n",
    "\n",
    "n1 = dpsimpy.emt.SimNode('n1', dpsimpy.PhaseType.ABC)\n",
    "n1.set_initial_voltage(dpsimpy.Math.single_phase_variable_to_three_phase(complex(voltage_hv_side, 0)))\n",
    "n2 = dpsimpy.emt.SimNode('n2', dpsimpy.PhaseType.ABC)\n",
    "n2.set_initial_voltage(dpsimpy.Math.single_phase_variable_to_three_phase(complex(99989.159386, -314.413354)))\n",
    "vn1 = dpsimpy.emt.SimNode('vn1', dpsimpy.PhaseType.ABC)\n",
    "vn1.set_initial_voltage(dpsimpy.Math.single_phase_variable_to_three_phase(complex(99989.991069, 0.026473)))\n",
    "gnd = dpsimpy.emt.SimNode.gnd\n",
    "\n",
    "vs = dpsimpy.emt.ph3.VoltageSource('v_1')\n",
    "trafo_res = dpsimpy.emt.ph3.Resistor('trafo_res')\n",
    "trafo_snubber_res_hv_side = dpsimpy.emt.ph3.Resistor('trafo_snub_res_mv') ##FIXME: Is the naming correct here?\n",
    "trafo_snubber_res_mv_side = dpsimpy.emt.ph3.Resistor('trafo_snub_res_hv')\n",
    "trafo_snubber_cap_mv_side = dpsimpy.emt.ph3.Capacitor('trafo_snub_cap_mv')\n",
    "trafo_ind = dpsimpy.emt.ph3.Inductor('trafo_ind')\n",
    "load_res = dpsimpy.emt.ph3.Resistor('r_1')\n",
    "\n",
    "vs.connect([gnd, n1])\n",
    "trafo_res.connect([n1, vn1])\n",
    "trafo_ind.connect([vn1, n2])\n",
    "trafo_snubber_res_hv_side.connect([n1, gnd])\n",
    "trafo_snubber_res_mv_side.connect([n2, gnd])\n",
    "trafo_snubber_cap_mv_side.connect([n2, gnd])\n",
    "load_res.connect([n2, gnd])\n",
    "\n",
    "vs.set_parameters(dpsimpy.Math.single_phase_variable_to_three_phase(complex(voltage_hv_side, 0)), 50)\n",
    "trafo_res.set_parameters(dpsimpy.Math.single_phase_parameter_to_three_phase(trafo_resistance))\n",
    "trafo_ind.set_parameters(dpsimpy.Math.single_phase_parameter_to_three_phase(trafo_inductance))\n",
    "trafo_snubber_res_hv_side.set_parameters(dpsimpy.Math.single_phase_parameter_to_three_phase(snubber_resistance_hv_side))\n",
    "trafo_snubber_res_mv_side.set_parameters(dpsimpy.Math.single_phase_parameter_to_three_phase(snubber_resistance_mv_side_to_hv_side))\n",
    "trafo_snubber_cap_mv_side.set_parameters(dpsimpy.Math.single_phase_parameter_to_three_phase(snubber_capacitance_mv_side_to_hv_side))\n",
    "load_res.set_parameters(dpsimpy.Math.single_phase_parameter_to_three_phase(load_resistance_hv_side))\n",
    "\n",
    "sys = dpsimpy.SystemTopology(50, [n1, n2, vn1], [vs, trafo_res, trafo_ind, trafo_snubber_res_hv_side, trafo_snubber_res_mv_side, trafo_snubber_cap_mv_side, load_res])\n",
    "\n",
    "logger = dpsimpy.Logger(sim_name)\n",
    "logger.log_attribute('v1', 'v', n1)\n",
    "logger.log_attribute('v2', 'v', n2)\n",
    "logger.log_attribute('itrafo', 'i_intf', trafo_ind)\n",
    "\n",
    "sim = dpsimpy.Simulation(sim_name)\n",
    "sim.set_system(sys)\n",
    "sim.set_time_step(time_step)\n",
    "sim.set_final_time(final_time)\n",
    "sim.add_logger(logger)\n",
    "sim.set_domain(dpsimpy.Domain.EMT)\n",
    "\n",
    "sim.run()"
   ]
  },
  {
   "attachments": {},
   "cell_type": "markdown",
   "metadata": {},
   "source": [
    "## EMT Trafo Component Simulation"
   ]
  },
  {
   "cell_type": "code",
   "execution_count": null,
   "metadata": {},
   "outputs": [],
   "source": [
    "time_step = 0.00005\n",
    "final_time = 1\n",
    "sim_name = 'EMT_Trafo_Component'\n",
    "dpsimpy.Logger.set_log_dir('logs/' + sim_name)\n",
    "\n",
    "voltage_hv_side = 100000\n",
    "voltage_mv_side = 10000\n",
    "trafo_resistance = 1\n",
    "trafo_inductance = 0.1\n",
    "load_resistance_hv_side = 10000\n",
    "ratio = voltage_hv_side / voltage_mv_side\n",
    "load_resistance_mv_side = load_resistance_hv_side / ratio**2\n",
    "\n",
    "n1 = dpsimpy.emt.SimNode('n1', dpsimpy.PhaseType.ABC)\n",
    "n1.set_initial_voltage(dpsimpy.Math.single_phase_variable_to_three_phase(complex(voltage_hv_side, 0)))\n",
    "n2 = dpsimpy.emt.SimNode('n2', dpsimpy.PhaseType.ABC)\n",
    "n2.set_initial_voltage(dpsimpy.Math.single_phase_variable_to_three_phase(complex(9998.9159386, -31.4413354)))\n",
    "gnd = dpsimpy.emt.SimNode.gnd\n",
    "\n",
    "vs = dpsimpy.emt.ph3.VoltageSource('v_1', dpsimpy.LogLevel.debug)\n",
    "trafo = dpsimpy.emt.ph3.Transformer('trafo', 'trafo', dpsimpy.LogLevel.debug, with_resistive_losses=True)\n",
    "load_res = dpsimpy.emt.ph3.Resistor('r_1', dpsimpy.LogLevel.debug)\n",
    "\n",
    "vs.connect([gnd, n1])\n",
    "trafo.connect([n1, n2])\n",
    "load_res.connect([n2, gnd])\n",
    "\n",
    "vs.set_parameters(dpsimpy.Math.single_phase_variable_to_three_phase(complex(voltage_hv_side, 0)), 50)\n",
    "trafo.set_parameters(voltage_hv_side, voltage_mv_side, trafo_power, ratio, 0,\n",
    "    dpsimpy.Math.single_phase_parameter_to_three_phase(trafo_resistance),\n",
    "    dpsimpy.Math.single_phase_parameter_to_three_phase(trafo_inductance))\n",
    "load_res.set_parameters(dpsimpy.Math.single_phase_parameter_to_three_phase(load_resistance_mv_side))\n",
    "\n",
    "sys = dpsimpy.SystemTopology(50, [n1, n2], [vs, trafo, load_res])\n",
    "\n",
    "logger = dpsimpy.Logger(sim_name)\n",
    "logger.log_attribute('v1', 'v', n1)\n",
    "logger.log_attribute('v2', 'v', n2)\n",
    "logger.log_attribute('itrafo', 'i_intf', trafo)\n",
    "\n",
    "sim = dpsimpy.Simulation(sim_name)\n",
    "sim.set_system(sys)\n",
    "sim.set_time_step(time_step)\n",
    "sim.set_final_time(final_time)\n",
    "sim.add_logger(logger)\n",
    "sim.set_domain(dpsimpy.Domain.EMT)\n",
    "\n",
    "sim.run()"
   ]
  },
  {
   "attachments": {},
   "cell_type": "markdown",
   "metadata": {},
   "source": [
    "## SP Trafo with elements"
   ]
  },
  {
   "cell_type": "code",
   "execution_count": null,
   "metadata": {},
   "outputs": [],
   "source": [
    "work_dir = 'logs/SP_Trafo_Elements/'\n",
    "log_name = 'SP_Trafo_Elements'\n",
    "print(work_dir + log_name + '.csv')\n",
    "trafo_elements = rt.read_timeseries_dpsim(work_dir + log_name + '.csv')\n",
    "trafo_elements_sp_shifted = ts.frequency_shift_list(trafo_elements, 50)"
   ]
  },
  {
   "cell_type": "code",
   "execution_count": null,
   "metadata": {},
   "outputs": [],
   "source": [
    "plt.figure()\n",
    "plt.plot(trafo_elements_sp_shifted['v1_shift'].time, trafo_elements_sp_shifted['v1_shift'].values, label='v1_shift')\n",
    "plt.legend()\n",
    "plt.show()"
   ]
  },
  {
   "cell_type": "code",
   "execution_count": null,
   "metadata": {},
   "outputs": [],
   "source": [
    "plt.figure()\n",
    "plt.plot(trafo_elements_sp_shifted['itrafo_shift'].time, trafo_elements_sp_shifted['itrafo_shift'].values, label='itrafo_shift')\n",
    "plt.legend()\n",
    "plt.show()"
   ]
  },
  {
   "attachments": {},
   "cell_type": "markdown",
   "metadata": {},
   "source": [
    "## SP Trafo composite model"
   ]
  },
  {
   "cell_type": "code",
   "execution_count": null,
   "metadata": {},
   "outputs": [],
   "source": [
    "work_dir = 'logs/SP_Trafo_Component/'\n",
    "log_name = 'SP_Trafo_Component'\n",
    "print(work_dir + log_name + '.csv')\n",
    "trafo_component = rt.read_timeseries_dpsim(work_dir + log_name + '.csv')\n",
    "trafo_component_sp_shifted = ts.frequency_shift_list(trafo_component, 50)\n",
    "trafo_component_sp_shifted['itrafo_shift'].values = -trafo_component_sp_shifted['itrafo_shift'].values"
   ]
  },
  {
   "cell_type": "code",
   "execution_count": null,
   "metadata": {},
   "outputs": [],
   "source": [
    "plt.figure()\n",
    "plt.plot(trafo_component_sp_shifted['v1_shift'].time, trafo_component_sp_shifted['v1_shift'].values, label='v1_shift')\n",
    "plt.legend()\n",
    "plt.show()"
   ]
  },
  {
   "cell_type": "code",
   "execution_count": null,
   "metadata": {},
   "outputs": [],
   "source": [
    "plt.figure()\n",
    "plt.plot(trafo_component_sp_shifted['itrafo_shift'].time, trafo_component_sp_shifted['itrafo_shift'].values, label='itrafo_shift')\n",
    "plt.legend()\n",
    "plt.show()"
   ]
  },
  {
   "attachments": {},
   "cell_type": "markdown",
   "metadata": {},
   "source": [
    "## Error for SP Trafo"
   ]
  },
  {
   "cell_type": "code",
   "execution_count": null,
   "metadata": {},
   "outputs": [],
   "source": [
    "plt.figure()\n",
    "for name in ['v1_shift', 'itrafo_shift']:\n",
    "    plt.plot(trafo_elements_sp_shifted[name].time, trafo_elements_sp_shifted[name].values - trafo_component_sp_shifted[name].values, label=name+'_error')\n",
    "plt.legend()\n",
    "plt.show()"
   ]
  },
  {
   "attachments": {},
   "cell_type": "markdown",
   "metadata": {},
   "source": [
    "## Assertion for SP Trafo"
   ]
  },
  {
   "cell_type": "code",
   "execution_count": null,
   "metadata": {},
   "outputs": [],
   "source": [
    "errors_sp_shifted = []\n",
    "for name in ['v1_shift', 'itrafo_shift']:\n",
    "    errors_sp_shifted.append(np.absolute(trafo_elements_sp_shifted[name].values - trafo_component_sp_shifted[name].values).max())\n",
    "    print(name + ': ' + str(errors_sp_shifted[-1]))\n",
    "assert np.max(errors_sp_shifted) < epsilon"
   ]
  },
  {
   "attachments": {},
   "cell_type": "markdown",
   "metadata": {},
   "source": [
    "## DP Trafo with elements"
   ]
  },
  {
   "cell_type": "code",
   "execution_count": 4,
   "metadata": {},
   "outputs": [
    {
     "name": "stdout",
     "output_type": "stream",
     "text": [
      "logs/DP_Trafo_Elements/DP_Trafo_Elements.csv\n",
      "column number: 3\n",
      "results length: 20001\n",
      "real column names: []\n",
      "complex column names: ['itrafo', 'v1', 'v2']\n"
     ]
    }
   ],
   "source": [
    "work_dir = 'logs/DP_Trafo_Elements/'\n",
    "log_name = 'DP_Trafo_Elements'\n",
    "print(work_dir + log_name + '.csv')\n",
    "trafo_elements = rt.read_timeseries_dpsim(work_dir + log_name + '.csv')\n",
    "trafo_elements_dp_shifted = ts.frequency_shift_list(trafo_elements, 50)"
   ]
  },
  {
   "cell_type": "code",
   "execution_count": 5,
   "metadata": {},
   "outputs": [
    {
     "data": {
      "image/png": "[encoded data removed]",
      "text/plain": [
       "<Figure size 432x288 with 1 Axes>"
      ]
     },
     "metadata": {
      "needs_background": "light"
     },
     "output_type": "display_data"
    }
   ],
   "source": [
    "plt.figure()\n",
    "plt.plot(trafo_elements_dp_shifted['v1_shift'].time, trafo_elements_dp_shifted['v1_shift'].values, label='v1_shift')\n",
    "plt.legend()\n",
    "plt.show()"
   ]
  },
  {
   "cell_type": "code",
   "execution_count": 6,
   "metadata": {},
   "outputs": [
    {
     "data": {
      "image/png": "[encoded data removed]",
      "text/plain": [
       "<Figure size 432x288 with 1 Axes>"
      ]
     },
     "metadata": {
      "needs_background": "light"
     },
     "output_type": "display_data"
    }
   ],
   "source": [
    "plt.figure()\n",
    "plt.plot(trafo_elements_dp_shifted['itrafo_shift'].time, trafo_elements_dp_shifted['itrafo_shift'].values, label='itrafo_shift')\n",
    "plt.legend()\n",
    "plt.show()"
   ]
  },
  {
   "attachments": {},
   "cell_type": "markdown",
   "metadata": {},
   "source": [
    "## DP Trafo composite model"
   ]
  },
  {
   "cell_type": "code",
   "execution_count": 7,
   "metadata": {},
   "outputs": [
    {
     "name": "stdout",
     "output_type": "stream",
     "text": [
      "logs/DP_Trafo_Component/DP_Trafo_Component.csv\n"
     ]
    },
    {
     "ename": "TypeError",
     "evalue": "complex() can't take second arg if first is a string",
     "output_type": "error",
     "traceback": [
      "\u001b[0;31m---------------------------------------------------------------------------\u001b[0m",
      "\u001b[0;31mTypeError\u001b[0m                                 Traceback (most recent call last)",
      "\u001b[1;32m/home/mmo/git/kalyan/dpsim/examples/Notebooks/Components/Trafo.ipynb Cell 31\u001b[0m in \u001b[0;36m<module>\u001b[0;34m\u001b[0m\n\u001b[1;32m      <a href='vscode-notebook-cell://ssh-remote%2Bfedora-jdi-3.acs-lab.eonerc.rwth-aachen.de/home/mmo/git/kalyan/dpsim/examples/Notebooks/Components/Trafo.ipynb#X42sdnNjb2RlLXJlbW90ZQ%3D%3D?line=1'>2</a>\u001b[0m log_name \u001b[39m=\u001b[39m \u001b[39m'\u001b[39m\u001b[39mDP_Trafo_Component\u001b[39m\u001b[39m'\u001b[39m\n\u001b[1;32m      <a href='vscode-notebook-cell://ssh-remote%2Bfedora-jdi-3.acs-lab.eonerc.rwth-aachen.de/home/mmo/git/kalyan/dpsim/examples/Notebooks/Components/Trafo.ipynb#X42sdnNjb2RlLXJlbW90ZQ%3D%3D?line=2'>3</a>\u001b[0m \u001b[39mprint\u001b[39m(work_dir \u001b[39m+\u001b[39m log_name \u001b[39m+\u001b[39m \u001b[39m'\u001b[39m\u001b[39m.csv\u001b[39m\u001b[39m'\u001b[39m)\n\u001b[0;32m----> <a href='vscode-notebook-cell://ssh-remote%2Bfedora-jdi-3.acs-lab.eonerc.rwth-aachen.de/home/mmo/git/kalyan/dpsim/examples/Notebooks/Components/Trafo.ipynb#X42sdnNjb2RlLXJlbW90ZQ%3D%3D?line=3'>4</a>\u001b[0m trafo_component \u001b[39m=\u001b[39m rt\u001b[39m.\u001b[39;49mread_timeseries_dpsim(work_dir \u001b[39m+\u001b[39;49m log_name \u001b[39m+\u001b[39;49m \u001b[39m'\u001b[39;49m\u001b[39m.csv\u001b[39;49m\u001b[39m'\u001b[39;49m)\n\u001b[1;32m      <a href='vscode-notebook-cell://ssh-remote%2Bfedora-jdi-3.acs-lab.eonerc.rwth-aachen.de/home/mmo/git/kalyan/dpsim/examples/Notebooks/Components/Trafo.ipynb#X42sdnNjb2RlLXJlbW90ZQ%3D%3D?line=4'>5</a>\u001b[0m trafo_component_dp_shifted \u001b[39m=\u001b[39m ts\u001b[39m.\u001b[39mfrequency_shift_list(trafo_component, \u001b[39m50\u001b[39m)\n",
      "File \u001b[0;32m~/git/VILLASdataprocessing/villas/dataprocessing/readtools.py:130\u001b[0m, in \u001b[0;36mread_timeseries_dpsim\u001b[0;34m(filename, timeseries_names, print_status)\u001b[0m\n\u001b[1;32m    129\u001b[0m \u001b[39mdef\u001b[39;00m \u001b[39mread_timeseries_dpsim\u001b[39m(filename, timeseries_names\u001b[39m=\u001b[39m\u001b[39mNone\u001b[39;00m, print_status\u001b[39m=\u001b[39m\u001b[39mTrue\u001b[39;00m):\n\u001b[0;32m--> 130\u001b[0m     \u001b[39mreturn\u001b[39;00m read_timeseries_csv(filename, timeseries_names, print_status)\n",
      "File \u001b[0;32m~/git/VILLASdataprocessing/villas/dataprocessing/readtools.py:104\u001b[0m, in \u001b[0;36mread_timeseries_csv\u001b[0;34m(filename, timeseries_names, print_status)\u001b[0m\n\u001b[1;32m    100\u001b[0m             \u001b[39mcontinue\u001b[39;00m\n\u001b[1;32m    102\u001b[0m         cmpl_result_columns\u001b[39m.\u001b[39mappend(column_base)\n\u001b[1;32m    103\u001b[0m         timeseries_list[column_base] \u001b[39m=\u001b[39m TimeSeries(column_base, timestamps,\n\u001b[0;32m--> 104\u001b[0m             np\u001b[39m.\u001b[39;49mvectorize(\u001b[39mcomplex\u001b[39;49m)(\n\u001b[1;32m    105\u001b[0m                 pd_df[column_base \u001b[39m+\u001b[39;49m real_suffix],\n\u001b[1;32m    106\u001b[0m                 pd_df[column_base \u001b[39m+\u001b[39;49m imag_suffix]\n\u001b[1;32m    107\u001b[0m             )\n\u001b[1;32m    108\u001b[0m         )\n\u001b[1;32m    109\u001b[0m         \u001b[39mbreak\u001b[39;00m\n\u001b[1;32m    111\u001b[0m \u001b[39mif\u001b[39;00m is_complex:\n",
      "File \u001b[0;32m/usr/local/lib64/python3.9/site-packages/numpy/lib/function_base.py:2304\u001b[0m, in \u001b[0;36mvectorize.__call__\u001b[0;34m(self, *args, **kwargs)\u001b[0m\n\u001b[1;32m   2301\u001b[0m     vargs \u001b[39m=\u001b[39m [args[_i] \u001b[39mfor\u001b[39;00m _i \u001b[39min\u001b[39;00m inds]\n\u001b[1;32m   2302\u001b[0m     vargs\u001b[39m.\u001b[39mextend([kwargs[_n] \u001b[39mfor\u001b[39;00m _n \u001b[39min\u001b[39;00m names])\n\u001b[0;32m-> 2304\u001b[0m \u001b[39mreturn\u001b[39;00m \u001b[39mself\u001b[39;49m\u001b[39m.\u001b[39;49m_vectorize_call(func\u001b[39m=\u001b[39;49mfunc, args\u001b[39m=\u001b[39;49mvargs)\n",
      "File \u001b[0;32m/usr/local/lib64/python3.9/site-packages/numpy/lib/function_base.py:2382\u001b[0m, in \u001b[0;36mvectorize._vectorize_call\u001b[0;34m(self, func, args)\u001b[0m\n\u001b[1;32m   2380\u001b[0m     res \u001b[39m=\u001b[39m func()\n\u001b[1;32m   2381\u001b[0m \u001b[39melse\u001b[39;00m:\n\u001b[0;32m-> 2382\u001b[0m     ufunc, otypes \u001b[39m=\u001b[39m \u001b[39mself\u001b[39;49m\u001b[39m.\u001b[39;49m_get_ufunc_and_otypes(func\u001b[39m=\u001b[39;49mfunc, args\u001b[39m=\u001b[39;49margs)\n\u001b[1;32m   2384\u001b[0m     \u001b[39m# Convert args to object arrays first\u001b[39;00m\n\u001b[1;32m   2385\u001b[0m     inputs \u001b[39m=\u001b[39m [asanyarray(a, dtype\u001b[39m=\u001b[39m\u001b[39mobject\u001b[39m) \u001b[39mfor\u001b[39;00m a \u001b[39min\u001b[39;00m args]\n",
      "File \u001b[0;32m/usr/local/lib64/python3.9/site-packages/numpy/lib/function_base.py:2342\u001b[0m, in \u001b[0;36mvectorize._get_ufunc_and_otypes\u001b[0;34m(self, func, args)\u001b[0m\n\u001b[1;32m   2338\u001b[0m     \u001b[39mraise\u001b[39;00m \u001b[39mValueError\u001b[39;00m(\u001b[39m'\u001b[39m\u001b[39mcannot call `vectorize` on size 0 inputs \u001b[39m\u001b[39m'\u001b[39m\n\u001b[1;32m   2339\u001b[0m                      \u001b[39m'\u001b[39m\u001b[39munless `otypes` is set\u001b[39m\u001b[39m'\u001b[39m)\n\u001b[1;32m   2341\u001b[0m inputs \u001b[39m=\u001b[39m [arg\u001b[39m.\u001b[39mflat[\u001b[39m0\u001b[39m] \u001b[39mfor\u001b[39;00m arg \u001b[39min\u001b[39;00m args]\n\u001b[0;32m-> 2342\u001b[0m outputs \u001b[39m=\u001b[39m func(\u001b[39m*\u001b[39;49minputs)\n\u001b[1;32m   2344\u001b[0m \u001b[39m# Performance note: profiling indicates that -- for simple\u001b[39;00m\n\u001b[1;32m   2345\u001b[0m \u001b[39m# functions at least -- this wrapping can almost double the\u001b[39;00m\n\u001b[1;32m   2346\u001b[0m \u001b[39m# execution time.\u001b[39;00m\n\u001b[1;32m   2347\u001b[0m \u001b[39m# Hence we make it optional.\u001b[39;00m\n\u001b[1;32m   2348\u001b[0m \u001b[39mif\u001b[39;00m \u001b[39mself\u001b[39m\u001b[39m.\u001b[39mcache:\n",
      "\u001b[0;31mTypeError\u001b[0m: complex() can't take second arg if first is a string"
     ]
    }
   ],
   "source": [
    "work_dir = 'logs/DP_Trafo_Component/'\n",
    "log_name = 'DP_Trafo_Component'\n",
    "print(work_dir + log_name + '.csv')\n",
    "trafo_component = rt.read_timeseries_dpsim(work_dir + log_name + '.csv')\n",
    "trafo_component_dp_shifted = ts.frequency_shift_list(trafo_component, 50)"
   ]
  },
  {
   "cell_type": "code",
   "execution_count": null,
   "metadata": {},
   "outputs": [],
   "source": [
    "plt.figure()\n",
    "plt.plot(trafo_component_dp_shifted['v1_shift'].time, trafo_component_dp_shifted['v1_shift'].values, label='v1_shift')\n",
    "plt.legend()\n",
    "plt.show()"
   ]
  },
  {
   "cell_type": "code",
   "execution_count": null,
   "metadata": {},
   "outputs": [],
   "source": [
    "plt.figure()\n",
    "plt.plot(trafo_component_dp_shifted['itrafo_shift'].time, trafo_component_dp_shifted['itrafo_shift'].values, label='itrafo_shift')\n",
    "plt.legend()\n",
    "plt.show()"
   ]
  },
  {
   "attachments": {},
   "cell_type": "markdown",
   "metadata": {},
   "source": [
    "## Error for DP Trafo"
   ]
  },
  {
   "cell_type": "code",
   "execution_count": null,
   "metadata": {},
   "outputs": [],
   "source": [
    "plt.figure()\n",
    "for name in ['v1_shift', 'itrafo_shift']:\n",
    "    plt.plot(trafo_elements_dp_shifted[name].time, trafo_elements_dp_shifted[name].values - trafo_component_dp_shifted[name].values, label=name+'_error')\n",
    "plt.legend()\n",
    "plt.show()"
   ]
  },
  {
   "attachments": {},
   "cell_type": "markdown",
   "metadata": {},
   "source": [
    "## Assertion for DP Trafo"
   ]
  },
  {
   "cell_type": "code",
   "execution_count": null,
   "metadata": {},
   "outputs": [],
   "source": [
    "errors_dp_shifted = []\n",
    "for name in ['v1_shift', 'itrafo_shift']:\n",
    "    errors_dp_shifted.append(np.absolute(trafo_elements_dp_shifted[name].values - trafo_component_dp_shifted[name].values).max())\n",
    "    print(name + ': ' + str(errors_dp_shifted[-1]))\n",
    "assert np.max(errors_dp_shifted) < epsilon"
   ]
  },
  {
   "attachments": {},
   "cell_type": "markdown",
   "metadata": {},
   "source": [
    "## EMT Trafo with elements"
   ]
  },
  {
   "cell_type": "code",
   "execution_count": null,
   "metadata": {},
   "outputs": [],
   "source": [
    "work_dir = 'logs/EMT_Trafo_Elements/'\n",
    "log_name = 'EMT_Trafo_Elements'\n",
    "print(work_dir + log_name + '.csv')\n",
    "trafo_elements_emt = rt.read_timeseries_dpsim(work_dir + log_name + '.csv')"
   ]
  },
  {
   "cell_type": "code",
   "execution_count": null,
   "metadata": {},
   "outputs": [],
   "source": [
    "plt.figure()\n",
    "plt.plot(trafo_elements_emt['v1_0'].time, PEAK1PH_TO_RMS3PH*trafo_elements_emt['v1_0'].values, label='v1_0')\n",
    "plt.legend()\n",
    "plt.show()"
   ]
  },
  {
   "cell_type": "code",
   "execution_count": null,
   "metadata": {},
   "outputs": [],
   "source": [
    "plt.figure()\n",
    "plt.plot(trafo_elements_emt['itrafo_0'].time, PEAK1PH_TO_RMS3PH*trafo_elements_emt['itrafo_0'].values, label='itrafo_0')\n",
    "plt.legend()\n",
    "plt.show()"
   ]
  },
  {
   "attachments": {},
   "cell_type": "markdown",
   "metadata": {},
   "source": [
    "## EMT Trafo composite model"
   ]
  },
  {
   "cell_type": "code",
   "execution_count": null,
   "metadata": {},
   "outputs": [],
   "source": [
    "work_dir = 'logs/EMT_Trafo_Component/'\n",
    "log_name = 'EMT_Trafo_Component'\n",
    "print(work_dir + log_name + '.csv')\n",
    "trafo_component_emt = rt.read_timeseries_dpsim(work_dir + log_name + '.csv')"
   ]
  },
  {
   "cell_type": "code",
   "execution_count": null,
   "metadata": {},
   "outputs": [],
   "source": [
    "plt.figure()\n",
    "#plt.plot(trafo_component_emt['v1_0'].time, PEAK1PH_TO_RMS3PH*trafo_component_emt['v1_0'].values, label='v1_0')\n",
    "#plt.plot(trafo_component_emt['v1_1'].time, PEAK1PH_TO_RMS3PH*trafo_component_emt['v1_1'].values, label='v1_1')\n",
    "plt.plot(trafo_component_emt['v1_2'].time, PEAK1PH_TO_RMS3PH*trafo_component_emt['v1_2'].values, label='v1_2')\n",
    "plt.legend()\n",
    "plt.show()"
   ]
  },
  {
   "cell_type": "code",
   "execution_count": null,
   "metadata": {},
   "outputs": [],
   "source": [
    "plt.figure()\n",
    "#plt.plot(trafo_component_emt['itrafo_0'].time, PEAK1PH_TO_RMS3PH*trafo_component_emt['itrafo_0'].values, label='itrafo_0')\n",
    "#plt.plot(trafo_component_emt['itrafo_1'].time, PEAK1PH_TO_RMS3PH*trafo_component_emt['itrafo_1'].values, label='itrafo_1')\n",
    "plt.plot(trafo_component_emt['itrafo_2'].time, PEAK1PH_TO_RMS3PH*trafo_component_emt['itrafo_2'].values, label='itrafo_2')\n",
    "plt.legend()\n",
    "plt.show()"
   ]
  },
  {
   "attachments": {},
   "cell_type": "markdown",
   "metadata": {},
   "source": [
    "## Error for EMT Trafo"
   ]
  },
  {
   "cell_type": "code",
   "execution_count": null,
   "metadata": {},
   "outputs": [],
   "source": [
    "plt.figure()\n",
    "#for name in ['v1_0', 'v1_1', 'v1_1', 'itrafo_0', 'itrafo_1', 'itrafo_2']:\n",
    "for name in ['itrafo_0']:\n",
    "    plt.plot(trafo_elements_emt[name].time, trafo_elements_emt[name].values - trafo_component_emt[name].values, label=name+'_error')\n",
    "plt.legend()\n",
    "plt.show()"
   ]
  },
  {
   "attachments": {},
   "cell_type": "markdown",
   "metadata": {},
   "source": [
    "## Assertion for EMT Trafo"
   ]
  },
  {
   "cell_type": "code",
   "execution_count": null,
   "metadata": {},
   "outputs": [],
   "source": [
    "errors_emt = []\n",
    "for name in ['v1_0', 'v1_1', 'v1_1', 'itrafo_0', 'itrafo_1', 'itrafo_2']:\n",
    "    errors_emt.append(np.absolute(trafo_elements_emt[name].values - trafo_component_emt[name].values).max())\n",
    "    print(name + ': ' + str(errors_emt[-1]))\n",
    "assert np.max(errors_emt) < epsilon"
   ]
  },
  {
   "attachments": {},
   "cell_type": "markdown",
   "metadata": {},
   "source": [
    "### Comparison SP vs. DP"
   ]
  },
  {
   "cell_type": "code",
   "execution_count": null,
   "metadata": {},
   "outputs": [],
   "source": [
    "plt.figure()\n",
    "for name in [('v1_shift', 'v1_shift')]:\n",
    "    plt.plot(trafo_component_sp_shifted[name[0]].time, trafo_component_sp_shifted[name[0]].values - trafo_component_dp_shifted[name[1]].values, label=name[0]+' (SP) vs. '+name[1]+' (DP)')\n",
    "plt.legend()\n",
    "plt.show()"
   ]
  },
  {
   "cell_type": "code",
   "execution_count": null,
   "metadata": {},
   "outputs": [],
   "source": [
    "plt.figure()\n",
    "for name in [('itrafo_shift', 'itrafo_shift')]:\n",
    "    plt.plot(trafo_component_sp_shifted[name[0]].time, trafo_component_sp_shifted[name[0]].values - trafo_component_dp_shifted[name[1]].values, label=name[0]+' (SP) vs. '+name[1]+' (DP)')\n",
    "plt.legend()\n",
    "plt.show()"
   ]
  },
  {
   "attachments": {},
   "cell_type": "markdown",
   "metadata": {},
   "source": [
    "### Assertion SP vs. DP"
   ]
  },
  {
   "cell_type": "code",
   "execution_count": null,
   "metadata": {},
   "outputs": [],
   "source": [
    "compare_errors_abs = []\n",
    "compare_errors_rel = []\n",
    "for name in [('v1_shift', 'v1_shift'), ('itrafo_shift', 'itrafo_shift')]:\n",
    "    compare_errors_abs.append(np.absolute(trafo_component_sp_shifted[name[0]].values - trafo_component_dp_shifted[name[1]].values).max())\n",
    "    compare_errors_rel.append(np.absolute(trafo_component_sp_shifted[name[0]].values - trafo_component_dp_shifted[name[1]].values).max()/trafo_component_dp_shifted[name[1]].values.max())\n",
    "    print(name[0]+' vs. '+name[1] + ' (abs): ' + str(compare_errors_abs[-1]))\n",
    "    print(name[0]+' vs. '+name[1] + ' (rel): ' + str(compare_errors_rel[-1]))\n",
    "print('Max rel error: '+ '{:.2}'.format(np.max(compare_errors_rel)*100) +'%')\n",
    "assert np.max(compare_errors_rel) < 3e-1"
   ]
  },
  {
   "attachments": {},
   "cell_type": "markdown",
   "metadata": {},
   "source": [
    "### Comparison EMT vs. DP"
   ]
  },
  {
   "cell_type": "code",
   "execution_count": null,
   "metadata": {},
   "outputs": [],
   "source": [
    "plt.figure()\n",
    "for name in [('v1_0', 'v1_shift')]:\n",
    "    plt.plot(trafo_component_emt[name[0]].time, PEAK1PH_TO_RMS3PH*trafo_component_emt[name[0]].values - trafo_component_dp_shifted[name[1]].values, label=name[0]+' vs. '+name[1])\n",
    "plt.legend()\n",
    "plt.show()"
   ]
  },
  {
   "cell_type": "code",
   "execution_count": null,
   "metadata": {},
   "outputs": [],
   "source": [
    "plt.figure()\n",
    "for name in [('itrafo_0', 'itrafo_shift')]:\n",
    "    plt.plot(trafo_component_emt[name[0]].time, PEAK1PH_TO_RMS3PH*trafo_component_emt[name[0]].values - trafo_component_dp_shifted[name[1]].values, label=name[0]+' vs. '+name[1])\n",
    "plt.legend()\n",
    "plt.show()"
   ]
  },
  {
   "attachments": {},
   "cell_type": "markdown",
   "metadata": {},
   "source": [
    "### Assertion EMT vs. DP"
   ]
  },
  {
   "cell_type": "code",
   "execution_count": null,
   "metadata": {},
   "outputs": [],
   "source": [
    "compare_errors_abs = []\n",
    "compare_errors_rel = []\n",
    "for name in [('v1_0', 'v1_shift'), ('itrafo_0', 'itrafo_shift')]:\n",
    "    compare_errors_abs.append(np.absolute(PEAK1PH_TO_RMS3PH*trafo_component_emt[name[0]].values - trafo_component_dp_shifted[name[1]].values).max())\n",
    "    compare_errors_rel.append(np.absolute(PEAK1PH_TO_RMS3PH*trafo_component_emt[name[0]].values - trafo_component_dp_shifted[name[1]].values).max()/trafo_component_dp_shifted[name[1]].values.max())\n",
    "    print(name[0]+' vs. '+name[1] + ' (abs): ' + str(compare_errors_abs[-1]))\n",
    "    print(name[0]+' vs. '+name[1] + ' (rel): ' + str(compare_errors_rel[-1]))\n",
    "print('Max rel error: '+ '{:.2}'.format(np.max(compare_errors_rel)*100) +'%')\n",
    "assert np.max(compare_errors_rel) < 0.012\n",
    "#assert np.max(compare_errors_rel) < 1e-4"
   ]
  }
 ],
 "metadata": {
  "interpreter": {
   "hash": "31f2aee4e71d21fbe5cf8b01ff0e069b9275f58929596ceb00d14d90e3e16cd6"
  },
  "kernelspec": {
   "display_name": "Python 3.9.6 64-bit",
   "name": "python3"
  },
  "language_info": {
   "codemirror_mode": {
    "name": "ipython",
    "version": 3
   },
   "file_extension": ".py",
   "mimetype": "text/x-python",
   "name": "python",
   "nbconvert_exporter": "python",
   "pygments_lexer": "ipython3",
   "version": "3.9.13"
  }
 },
 "nbformat": 4,
 "nbformat_minor": 4
}
