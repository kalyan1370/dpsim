{
 "cells": [
  {
   "cell_type": "markdown",
   "id": "olympic-travel",
   "metadata": {},
   "source": [
    "# Controller Validation (Exciter, PSS and Turbine Governor) against PSAT"
   ]
  },
  {
   "cell_type": "markdown",
   "id": "separate-power",
   "metadata": {},
   "source": [
    "## 1. Run C++ example with Exciter"
   ]
  },
  {
   "cell_type": "code",
   "execution_count": null,
   "id": "novel-breath",
   "metadata": {},
   "outputs": [],
   "source": [
    "import os\n",
    "import subprocess\n",
    "\n",
    "#%matplotlib widget\n",
    "\n",
    "name = 'SP_ReducedOrderSG_SMIB_Fault'\n",
    "options = ['SGModel=4']\n",
    "\n",
    "dpsim_path = subprocess.Popen(['git', 'rev-parse', '--show-toplevel'], stdout=subprocess.PIPE).communicate()[0].rstrip().decode('utf-8')\n",
    "\n",
    "path_exec = dpsim_path + '/build/dpsim/examples/cxx/'\n",
    "for i in range(len(options)):\n",
    "    sim = subprocess.Popen([path_exec + name, '-o', options[i], '-oWithExciter=true', '-oFinalTime=10'], stdout=subprocess.PIPE, stderr=subprocess.STDOUT)\n",
    "    print(sim.communicate()[0].decode())\n"
   ]
  },
  {
   "cell_type": "markdown",
   "id": "clinical-weight",
   "metadata": {},
   "source": [
    "### Load DPSIM Results"
   ]
  },
  {
   "cell_type": "code",
   "execution_count": null,
   "id": "synthetic-brooks",
   "metadata": {},
   "outputs": [],
   "source": [
    "from villas.dataprocessing.readtools import *\n",
    "from villas.dataprocessing.timeseries import *\n",
    "import matplotlib.pyplot as plt\n",
    "import re\n",
    "import numpy as np\n",
    "import math\n",
    "import os\n",
    "\n",
    "work_dir = os.getcwd() + \"/logs/\"\n",
    "file_name_4Order = 'SP_SynGen4Order_VBR_SMIB_Fault'\n",
    "\n",
    "path_logfile = work_dir + file_name_4Order + \"/\" + file_name_4Order + \".csv\"\n",
    "ts_dpsim_4Order = read_timeseries_dpsim(path_logfile)"
   ]
  },
  {
   "cell_type": "markdown",
   "id": "demanding-stadium",
   "metadata": {},
   "source": [
    "### Load PSAT Results"
   ]
  },
  {
   "cell_type": "code",
   "execution_count": null,
   "id": "complicated-seafood",
   "metadata": {},
   "outputs": [],
   "source": [
    "import urllib.request\n",
    "\n",
    "if not os.path.exists('reference-results'):\n",
    "    os.mkdir('reference-results')\n",
    "\n",
    "url = 'https://git.rwth-aachen.de/acs/public/simulation/reference-results/-/raw/master/PSAT/SMIB-Fault/PSAT_4OrderSyGen_withExciter_SMIB_Fault_100mS_TS_1mS.txt'\n",
    "local_file_4Order = 'reference-results/PSAT_4OrderSyGen_withExciter_SMIB_Fault_100mS_TS_1mS.out'\n",
    "urllib.request.urlretrieve(url, local_file_4Order)\n",
    "ts_psat_4Order = read_timeseries_dpsim(local_file_4Order)"
   ]
  },
  {
   "cell_type": "markdown",
   "id": "conscious-influence",
   "metadata": {},
   "source": [
    "### Calculate $V_d$, $V_q$, $I_d$ and $I_q$ in PSAT"
   ]
  },
  {
   "cell_type": "code",
   "execution_count": null,
   "id": "consistent-multimedia",
   "metadata": {},
   "outputs": [],
   "source": [
    "#calculate vd and vq\n",
    "angle = ts_psat_4Order['delta'].values - ts_psat_4Order['theta_bus1'].values\n",
    "V_bus1 = ts_psat_4Order['V_Bus1'].values\n",
    "vd = V_bus1 * np.sin(angle)\n",
    "ts_psat_4Order['vd'] = TimeSeries('vd', ts_psat_4Order['V_Bus1'].time, vd)\n",
    "vq = V_bus1 * np.cos(angle)\n",
    "ts_psat_4Order['vq'] = TimeSeries('vq', ts_psat_4Order['V_Bus1'].time, vq)\n",
    "    \n",
    "#calculate id and iq in PSAT\n",
    "Xd = 0.299900\n",
    "Xq = 0.650000\n",
    "i_d = (ts_psat_4Order['eq_t'].values - ts_psat_4Order['vq'].values) / Xd\n",
    "ts_psat_4Order['id'] = TimeSeries('id', ts_psat_4Order['eq_t'].time, i_d)\n",
    "i_q = -(ts_psat_4Order['ed_t'].values - ts_psat_4Order['vd'].values) / Xq\n",
    "ts_psat_4Order['iq'] = TimeSeries('iq', ts_psat_4Order['ed_t'].time, i_q)"
   ]
  },
  {
   "cell_type": "markdown",
   "id": "several-nevada",
   "metadata": {},
   "source": [
    "### Nominal values"
   ]
  },
  {
   "cell_type": "code",
   "execution_count": null,
   "id": "integrated-implement",
   "metadata": {
    "tags": []
   },
   "outputs": [],
   "source": [
    "#nominal values (per unit)\n",
    "nominal_values = {}\n",
    "nominal_values['Te'] = 0.540541\n",
    "nominal_values['Tm'] = 0.540541\n",
    "nominal_values['Edq0_0'] = 0.403062     \n",
    "nominal_values['Edq0_1'] = 0.944802     \n",
    "nominal_values['Vdq0_0'] = 0.639089\n",
    "nominal_values['Vdq0_1'] = 0.833106\n",
    "nominal_values['Idq0_0'] = 0.372443\n",
    "nominal_values['Idq0_1'] = 0.363119\n",
    "nominal_values['delta'] = 0.909230\n",
    "nominal_values['w_r'] = 1.0\n",
    "nominal_values['Ef'] = 1.507191\n",
    "nominal_grid_voltage = 24e3\n",
    "\n",
    "#\n",
    "titles = {}\n",
    "titles['Te'] = 'Electrical Torque'\n",
    "titles['Tm'] = 'Mechanical Torque'\n",
    "titles['Edq0_0'] = 'd-component of the voltage behind the transient reactance'\n",
    "titles['Edq0_1'] = 'q-component of the voltage behind the transient reactance'\n",
    "titles['Vdq0_0'] = 'd-component of the terminal voltage'\n",
    "titles['Vdq0_1'] = 'q-component of the terminal voltage'\n",
    "titles['Idq0_0'] = 'd-component of the terminal current'\n",
    "titles['Idq0_1'] = 'q-component of the terminal current'\n",
    "titles['delta'] = 'Delta'\n",
    "titles['w_r'] = 'Mechanical Omega'\n",
    "titles['Ef'] = 'Exiter output'\n",
    "\n",
    "#\n",
    "ylabels = {}\n",
    "ylabels['Te'] = 'Torque (p.u.)'\n",
    "ylabels['Tm'] = 'Torque (p.u.)'\n",
    "ylabels['Edq0_0'] = 'Ed_t (p.u.)'\n",
    "ylabels['Edq0_1'] = 'Eq_t (p.u.)'\n",
    "ylabels['Edq0_t_0'] = 'Ed_t (p.u.)'\n",
    "ylabels['Edq0_t_1'] = 'Eq_t (p.u.)'\n",
    "ylabels['Edq0_s_0'] = 'Ed_s (p.u.)'\n",
    "ylabels['Edq0_s_1'] = 'Eq_s (p.u.)'\n",
    "ylabels['Vdq0_0'] = 'Vd (p.u.)'\n",
    "ylabels['Vdq0_1'] = 'Vq (p.u.)'\n",
    "ylabels['Idq0_0'] = 'Id (p.u.)'\n",
    "ylabels['Idq0_1'] = 'Iq (p.u.)'\n",
    "ylabels['delta'] = 'Delta (rad)'\n",
    "ylabels['w_r'] = 'w_r (p.u.)'\n",
    "ylabels['Ef'] = 'Ef (p.u.)'"
   ]
  },
  {
   "cell_type": "markdown",
   "id": "innovative-porter",
   "metadata": {},
   "source": [
    "### Declare plot function"
   ]
  },
  {
   "cell_type": "code",
   "execution_count": null,
   "id": "respected-guinea",
   "metadata": {},
   "outputs": [],
   "source": [
    "timestep_common = 10e-6\n",
    "t_begin=0\n",
    "t_end=20\n",
    "begin_idx = int(t_begin/timestep_common)\n",
    "end_idx= int(t_end/timestep_common)\n",
    "\n",
    "#plot Results\n",
    "width = 12\n",
    "height = 4\n",
    "\n",
    "def plot_variable(title, varname_dpsim, varname_psat, ts_dpsim, ts_psat, nominal_values, ylabels):\n",
    "    fig1 = plt.figure(figsize=(width, height))\n",
    "    plt.plot(ts_dpsim[varname_dpsim].interpolate(timestep_common).time[begin_idx:end_idx], ts_dpsim[varname_dpsim].interpolate(timestep_common).values[begin_idx:end_idx], label='DPSim')\n",
    "    plt.plot(ts_psat[varname_psat].interpolate(timestep_common).time[begin_idx:end_idx], ts_psat[varname_psat].interpolate(timestep_common).values[begin_idx:end_idx], '--', label='PSAT')\n",
    "    plt.legend(loc='lower right')\n",
    "    plt.xlabel('time (s)')\n",
    "    plt.ylabel(ylabels[varname_dpsim])\n",
    "    plt.grid()\n",
    "    plt.xlim([0, 10])\n",
    "    plt.show\n",
    "    \n",
    "    #calculate RMSE\n",
    "    nom_value = nominal_values[varname_dpsim]\n",
    "    rmse = ts_dpsim[varname_dpsim].rmse(ts_dpsim[varname_dpsim].interpolate(timestep_common), ts_psat[varname_psat].interpolate(timestep_common))\n",
    "    print('RMSE {:s}  = {:.6f} (pu), which is {:.3f}% of the nominal value = {:.3f} (pu) '.format(varname_dpsim, rmse, rmse/nom_value*100, nom_value))\n",
    "        \n",
    "    return rmse/nom_value*100\n",
    "\n",
    "def plot_node_volt_abs(varname_dpsim, varname_psat, ts_dpsim, ts_psat, nominal_voltage, ylabels):\n",
    "    \n",
    "    #convert dpsim voltage to magnitude value and per-unit for comparison with psat\n",
    "    ts_dpsim_abs_pu = TimeSeries(varname_dpsim+'_abs_pu', ts_dpsim[varname_dpsim].interpolate(timestep_common).time, ts_dpsim[varname_dpsim].interpolate(timestep_common).abs().values/nominal_voltage)\n",
    "    \n",
    "    fig1 = plt.figure(figsize=(width, height))\n",
    "    plt.plot(ts_dpsim_abs_pu.time[begin_idx:end_idx], ts_dpsim_abs_pu.values[begin_idx:end_idx], label='DPSim')\n",
    "    plt.plot(ts_psat[varname_psat].interpolate(timestep_common).time[begin_idx:end_idx], ts_psat[varname_psat].interpolate(timestep_common).values[begin_idx:end_idx], '--', label='PSAT')\n",
    "    plt.legend(loc='lower right')\n",
    "    plt.xlabel('time (s)')\n",
    "    plt.show\n",
    "      \n",
    "     #calculate RMSE\n",
    "    rmse = ts_dpsim[varname_dpsim].rmse(ts_dpsim_abs_pu, ts_psat[varname_psat].interpolate(timestep_common))\n",
    "    print('RMSE {:s}  = {:.6f} (pu), which is {:.3f}% of the nominal value = {:.3f} (pu) '.format(varname_dpsim, rmse, rmse/1.0*100, 1.0))\n",
    "        \n",
    "    return rmse/1.0*100\n",
    "\n",
    "\n",
    "def plot_node_volt_angle(varname_dpsim, varname_psat, ts_dpsim, ts_psat, nominal_voltage, ylabels):\n",
    "    #limit rmse to post-fault evaluation\n",
    "    t_post_begin=1.1\n",
    "    t_post_end=20\n",
    "    begin_post_idx = int(t_post_begin/timestep_common)\n",
    "    end_post_idx= int(t_post_end/timestep_common)\n",
    "    \n",
    "    #convert psat angle to deg and in range from\n",
    "    ts_psat_deg = TimeSeries(varname_psat+'_deg', ts_psat[varname_psat].interpolate(timestep_common).time, ts_psat[varname_psat].interpolate(timestep_common).values/np.pi*180)\n",
    "        \n",
    "    fig2 = plt.figure(figsize=(width, height))\n",
    "    plt.plot(ts_dpsim[varname_dpsim].interpolate(timestep_common).time[begin_idx:end_idx], ts_dpsim[varname_dpsim].interpolate(timestep_common).phase().values[begin_idx:end_idx], label='DPSim')\n",
    "    plt.plot(ts_psat_deg.time[begin_idx:end_idx], ts_psat_deg.values[begin_idx:end_idx], '--', label='PSAT')\n",
    "    plt.legend(loc='lower right')\n",
    "    plt.xlabel('time (s)')\n",
    "    plt.show\n",
    "    \n",
    "     #calculate RMSE\n",
    "    ts_dpsim_deg_post = TimeSeries(varname_dpsim+'_deg_post', ts_dpsim[varname_dpsim].interpolate(timestep_common).time[begin_post_idx:end_post_idx], ts_dpsim[varname_dpsim].interpolate(timestep_common).phase().values[begin_post_idx:end_post_idx])\n",
    "    ts_psat_deg_post = TimeSeries(varname_psat+'_deg_post', ts_psat_deg.time[begin_post_idx:end_post_idx], ts_psat_deg.values[begin_post_idx:end_post_idx])\n",
    "    rmse = ts_dpsim[varname_dpsim].rmse(ts_dpsim_deg_post, ts_psat_deg_post)\n",
    "    print('RMSE Post-Fault {:s}  = {:.6f} (deg)'.format(varname_dpsim, rmse))\n",
    "        \n",
    "    return rmse"
   ]
  },
  {
   "cell_type": "markdown",
   "id": "technological-administration",
   "metadata": {},
   "source": [
    "### Validation of electrical and mechanical variables"
   ]
  },
  {
   "cell_type": "markdown",
   "id": "american-patrol",
   "metadata": {},
   "source": [
    "#### Electrical Torque"
   ]
  },
  {
   "cell_type": "code",
   "execution_count": null,
   "id": "productive-international",
   "metadata": {},
   "outputs": [],
   "source": [
    "varname_dpsim = \"Te\"\n",
    "varname_psat = \"p\"\n",
    "\n",
    "rmse_torque = plot_variable(titles, varname_dpsim, varname_psat, ts_dpsim_4Order, ts_psat_4Order, nominal_values, ylabels)"
   ]
  },
  {
   "cell_type": "markdown",
   "id": "hungarian-david",
   "metadata": {},
   "source": [
    "#### Exciter Output"
   ]
  },
  {
   "cell_type": "code",
   "execution_count": null,
   "id": "labeled-internet",
   "metadata": {},
   "outputs": [],
   "source": [
    "varname_dpsim = \"Ef\"\n",
    "varname_psat = \"vf\"\n",
    "\n",
    "rmse_ef = plot_variable(titles, varname_dpsim, varname_psat, ts_dpsim_4Order, ts_psat_4Order, nominal_values, ylabels)"
   ]
  },
  {
   "cell_type": "markdown",
   "id": "integral-demand",
   "metadata": {},
   "source": [
    "#### $E_d^{'}$"
   ]
  },
  {
   "cell_type": "code",
   "execution_count": null,
   "id": "national-parliament",
   "metadata": {},
   "outputs": [],
   "source": [
    "varname_dpsim = \"Edq0_0\"\n",
    "varname_psat = \"ed_t\"\n",
    "\n",
    "rmse_ed = plot_variable(titles, varname_dpsim, varname_psat, ts_dpsim_4Order, ts_psat_4Order, nominal_values, ylabels)"
   ]
  },
  {
   "cell_type": "markdown",
   "id": "civil-hacker",
   "metadata": {},
   "source": [
    "#### $E_q^{'}$"
   ]
  },
  {
   "cell_type": "code",
   "execution_count": null,
   "id": "opponent-hughes",
   "metadata": {},
   "outputs": [],
   "source": [
    "varname_dpsim = \"Edq0_1\"\n",
    "varname_psat = \"eq_t\"\n",
    "\n",
    "rmse_eq = plot_variable(titles, varname_dpsim, varname_psat, ts_dpsim_4Order, ts_psat_4Order, nominal_values, ylabels)"
   ]
  },
  {
   "cell_type": "markdown",
   "id": "failing-lotus",
   "metadata": {},
   "source": [
    "#### $V_d$"
   ]
  },
  {
   "cell_type": "code",
   "execution_count": null,
   "id": "fuzzy-passenger",
   "metadata": {},
   "outputs": [],
   "source": [
    "varname_dpsim = \"Vdq0_0\"\n",
    "varname_psat = \"vd\"\n",
    "\n",
    "rmse_vd = plot_variable(titles, varname_dpsim, varname_psat, ts_dpsim_4Order, ts_psat_4Order, nominal_values, ylabels)"
   ]
  },
  {
   "cell_type": "markdown",
   "id": "sensitive-daisy",
   "metadata": {},
   "source": [
    "#### $V_q$"
   ]
  },
  {
   "cell_type": "code",
   "execution_count": null,
   "id": "executive-delay",
   "metadata": {},
   "outputs": [],
   "source": [
    "varname_dpsim = \"Vdq0_1\"\n",
    "varname_psat = \"vq\"\n",
    "\n",
    "rmse_vq = plot_variable(titles, varname_dpsim, varname_psat, ts_dpsim_4Order, ts_psat_4Order, nominal_values, ylabels)"
   ]
  },
  {
   "cell_type": "markdown",
   "id": "persistent-scanner",
   "metadata": {},
   "source": [
    "#### $I_d$"
   ]
  },
  {
   "cell_type": "code",
   "execution_count": null,
   "id": "ranging-gardening",
   "metadata": {},
   "outputs": [],
   "source": [
    "varname_dpsim = \"Idq0_0\"\n",
    "varname_psat = \"id\"\n",
    "\n",
    "rmse_id = plot_variable(titles, varname_dpsim, varname_psat, ts_dpsim_4Order, ts_psat_4Order, nominal_values, ylabels)"
   ]
  },
  {
   "cell_type": "markdown",
   "id": "outdoor-defense",
   "metadata": {},
   "source": [
    "#### $I_q$"
   ]
  },
  {
   "cell_type": "code",
   "execution_count": null,
   "id": "attended-mailing",
   "metadata": {},
   "outputs": [],
   "source": [
    "varname_dpsim = \"Vdq0_1\"\n",
    "varname_psat = \"vq\"\n",
    "\n",
    "rmse_iq = plot_variable(titles, varname_dpsim, varname_psat, ts_dpsim_4Order, ts_psat_4Order, nominal_values, ylabels)"
   ]
  },
  {
   "cell_type": "markdown",
   "id": "assisted-cincinnati",
   "metadata": {},
   "source": [
    "#### Delta"
   ]
  },
  {
   "cell_type": "code",
   "execution_count": null,
   "id": "unable-indian",
   "metadata": {},
   "outputs": [],
   "source": [
    "varname_dpsim = \"delta\"\n",
    "varname_psat = \"delta\"\n",
    "\n",
    "rmse_delta = plot_variable(titles, varname_dpsim, varname_psat, ts_dpsim_4Order, ts_psat_4Order, nominal_values, ylabels)"
   ]
  },
  {
   "cell_type": "markdown",
   "id": "sensitive-sphere",
   "metadata": {},
   "source": [
    "#### Mechanical Omega"
   ]
  },
  {
   "cell_type": "code",
   "execution_count": null,
   "id": "secure-thompson",
   "metadata": {},
   "outputs": [],
   "source": [
    "varname_dpsim = \"w_r\"\n",
    "varname_psat = \"omega\"\n",
    "\n",
    "rmse_omega = plot_variable(titles, varname_dpsim, varname_psat, ts_dpsim_4Order, ts_psat_4Order, nominal_values, ylabels)"
   ]
  },
  {
   "cell_type": "markdown",
   "id": "coordinate-cream",
   "metadata": {},
   "source": [
    "#### Grid voltages"
   ]
  },
  {
   "cell_type": "code",
   "execution_count": null,
   "id": "celtic-retailer",
   "metadata": {},
   "outputs": [],
   "source": [
    "varname_dpsim = \"v1\"\n",
    "varname_psat = \"V_Bus1\"\n",
    "\n",
    "rmse_v1_abs = plot_node_volt_abs(varname_dpsim, varname_psat, ts_dpsim_4Order, ts_psat_4Order, nominal_grid_voltage, ylabels)"
   ]
  },
  {
   "cell_type": "code",
   "execution_count": null,
   "id": "aware-vehicle",
   "metadata": {},
   "outputs": [],
   "source": [
    "varname_dpsim = \"v1\"\n",
    "varname_psat = \"theta_bus1\"\n",
    "\n",
    "rmse_v1_angle = plot_node_volt_angle(varname_dpsim, varname_psat, ts_dpsim_4Order, ts_psat_4Order, nominal_grid_voltage, ylabels)"
   ]
  },
  {
   "cell_type": "code",
   "execution_count": null,
   "id": "architectural-union",
   "metadata": {},
   "outputs": [],
   "source": [
    "varname_dpsim = \"v2\"\n",
    "varname_psat = \"V_Bus3\"\n",
    "\n",
    "rmse_v2_abs = plot_node_volt_abs(varname_dpsim, varname_psat, ts_dpsim_4Order, ts_psat_4Order, nominal_grid_voltage, ylabels)"
   ]
  },
  {
   "cell_type": "code",
   "execution_count": null,
   "id": "orange-lesson",
   "metadata": {},
   "outputs": [],
   "source": [
    "varname_dpsim = \"v2\"\n",
    "varname_psat = \"theta_bus3\"\n",
    "\n",
    "rmse_v2_angle = plot_node_volt_angle(varname_dpsim, varname_psat, ts_dpsim_4Order, ts_psat_4Order, nominal_grid_voltage, ylabels)"
   ]
  },
  {
   "cell_type": "markdown",
   "id": "comparable-career",
   "metadata": {},
   "source": [
    "#### Assert"
   ]
  },
  {
   "cell_type": "code",
   "execution_count": null,
   "id": "developing-gregory",
   "metadata": {},
   "outputs": [],
   "source": [
    "tol = 1 # %\n",
    "tol_id = 6\n",
    "tol_deg_v1 = 0.02 # deg\n",
    "tol_deg_v2 = 1e-12 # deg\n",
    "\n",
    "assert(rmse_torque<tol)\n",
    "assert(rmse_ef<tol)\n",
    "assert(rmse_ed<tol)\n",
    "assert(rmse_eq<tol)\n",
    "assert(rmse_vd<tol)\n",
    "assert(rmse_vq<tol)\n",
    "assert(rmse_id<tol_id)\n",
    "assert(rmse_iq<tol)\n",
    "assert(rmse_delta<tol)\n",
    "assert(rmse_omega<tol)\n",
    "assert(rmse_v1_abs<tol)\n",
    "assert(rmse_v2_abs<tol)\n",
    "#assert(rmse_v1_angle<tol_deg_v1)\n",
    "assert(rmse_v2_angle<tol_deg_v2)"
   ]
  },
  {
   "cell_type": "markdown",
   "id": "separate-power",
   "metadata": {},
   "source": [
    "## 2. Run C++ example with Exciter and PSS"
   ]
  },
  {
   "cell_type": "code",
   "execution_count": null,
   "id": "novel-breath",
   "metadata": {},
   "outputs": [],
   "source": [
    "import os\n",
    "import subprocess\n",
    "\n",
    "#%matplotlib widget\n",
    "\n",
    "name = 'SP_ReducedOrderSG_SMIB_Fault'\n",
    "options = ['SGModel=4']\n",
    "\n",
    "dpsim_path = subprocess.Popen(['git', 'rev-parse', '--show-toplevel'], stdout=subprocess.PIPE).communicate()[0].rstrip().decode('utf-8')\n",
    "\n",
    "path_exec = dpsim_path + '/build/dpsim/examples/cxx/'\n",
    "for i in range(len(options)):\n",
    "    sim = subprocess.Popen([path_exec + name, '-o', options[i], '-oWithExciter=true', '-oWithPSS=true', '-oFinalTime=10'], stdout=subprocess.PIPE, stderr=subprocess.STDOUT)\n",
    "    print(sim.communicate()[0].decode())\n"
   ]
  },
  {
   "cell_type": "markdown",
   "id": "clinical-weight",
   "metadata": {},
   "source": [
    "### Load DPSIM Results"
   ]
  },
  {
   "cell_type": "code",
   "execution_count": null,
   "id": "synthetic-brooks",
   "metadata": {},
   "outputs": [],
   "source": [
    "from villas.dataprocessing.readtools import *\n",
    "from villas.dataprocessing.timeseries import *\n",
    "import matplotlib.pyplot as plt\n",
    "import re\n",
    "import numpy as np\n",
    "import math\n",
    "import os\n",
    "\n",
    "work_dir = os.getcwd() + \"/logs/\"\n",
    "file_name_4Order = 'SP_SynGen4Order_VBR_SMIB_Fault'\n",
    "\n",
    "path_logfile = work_dir + file_name_4Order + \"/\" + file_name_4Order + \".csv\"\n",
    "ts_dpsim_4Order = read_timeseries_dpsim(path_logfile)"
   ]
  },
  {
   "cell_type": "markdown",
   "id": "demanding-stadium",
   "metadata": {},
   "source": [
    "### Load PSAT Results"
   ]
  },
  {
   "cell_type": "code",
   "execution_count": null,
   "id": "complicated-seafood",
   "metadata": {},
   "outputs": [],
   "source": [
    "import urllib.request\n",
    "\n",
    "if not os.path.exists('reference-results'):\n",
    "    os.mkdir('reference-results')\n",
    "\n",
    "url = 'https://git.rwth-aachen.de/acs/public/simulation/reference-results/-/raw/master/PSAT/SMIB-Fault/PSAT_4OrderSyGen_withPSS_SMIB_Fault_100mS_TS_1mS.txt'\n",
    "local_file_4Order = 'reference-results/PSAT_4OrderSyGen_withExciter_SMIB_Fault_100mS_TS_1mS.out'\n",
    "urllib.request.urlretrieve(url, local_file_4Order)\n",
    "ts_psat_4Order = read_timeseries_dpsim(local_file_4Order)"
   ]
  },
  {
   "cell_type": "markdown",
   "id": "conscious-influence",
   "metadata": {},
   "source": [
    "### Calculate $V_d$, $V_q$, $I_d$ and $I_q$ in PSAT"
   ]
  },
  {
   "cell_type": "code",
   "execution_count": null,
   "id": "consistent-multimedia",
   "metadata": {},
   "outputs": [],
   "source": [
    "#calculate vd and vq\n",
    "angle = ts_psat_4Order['delta'].values - ts_psat_4Order['theta_bus1'].values\n",
    "V_bus1 = ts_psat_4Order['V_Bus1'].values\n",
    "vd = V_bus1 * np.sin(angle)\n",
    "ts_psat_4Order['vd'] = TimeSeries('vd', ts_psat_4Order['V_Bus1'].time, vd)\n",
    "vq = V_bus1 * np.cos(angle)\n",
    "ts_psat_4Order['vq'] = TimeSeries('vq', ts_psat_4Order['V_Bus1'].time, vq)\n",
    "    \n",
    "#calculate id and iq in PSAT\n",
    "Xd = 0.299900\n",
    "Xq = 0.650000\n",
    "i_d = (ts_psat_4Order['eq_t'].values - ts_psat_4Order['vq'].values) / Xd\n",
    "ts_psat_4Order['id'] = TimeSeries('id', ts_psat_4Order['eq_t'].time, i_d)\n",
    "i_q = -(ts_psat_4Order['ed_t'].values - ts_psat_4Order['vd'].values) / Xq\n",
    "ts_psat_4Order['iq'] = TimeSeries('iq', ts_psat_4Order['ed_t'].time, i_q)"
   ]
  },
  {
   "cell_type": "markdown",
   "id": "several-nevada",
   "metadata": {},
   "source": [
    "### Nominal values"
   ]
  },
  {
   "cell_type": "code",
   "execution_count": null,
   "id": "integrated-implement",
   "metadata": {
    "tags": []
   },
   "outputs": [],
   "source": [
    "#nominal values (per unit)\n",
    "nominal_values = {}\n",
    "nominal_values['Te'] = 0.540541\n",
    "nominal_values['Tm'] = 0.540541\n",
    "nominal_values['Edq0_0'] = 0.403062     #4th order model\n",
    "nominal_values['Edq0_1'] = 0.944802     #3th and 4th order model\n",
    "nominal_values['Vdq0_0'] = 0.639089\n",
    "nominal_values['Vdq0_1'] = 0.833106\n",
    "nominal_values['Idq0_0'] = 0.372443\n",
    "nominal_values['Idq0_1'] = 0.363119\n",
    "nominal_values['delta'] = 0.909230\n",
    "nominal_values['w_r'] = 1.0\n",
    "nominal_values['Ef'] = 1.507191\n",
    "nominal_grid_voltage = 24e3\n",
    "\n",
    "#\n",
    "titles = {}\n",
    "titles['Te'] = 'Electrical Torque'\n",
    "titles['Tm'] = 'Mechanical Torque'\n",
    "titles['Edq0_0'] = 'd-component of the voltage behind the transient reactance'\n",
    "titles['Edq0_1'] = 'q-component of the voltage behind the transient reactance'\n",
    "titles['Vdq0_0'] = 'd-component of the terminal voltage'\n",
    "titles['Vdq0_1'] = 'q-component of the terminal voltage'\n",
    "titles['Idq0_0'] = 'd-component of the terminal current'\n",
    "titles['Idq0_1'] = 'q-component of the terminal current'\n",
    "titles['delta'] = 'Delta'\n",
    "titles['w_r'] = 'Mechanical Omega'\n",
    "titles['Ef'] = 'Exiter output'\n",
    "\n",
    "#\n",
    "ylabels = {}\n",
    "ylabels['Te'] = 'Torque (p.u.)'\n",
    "ylabels['Tm'] = 'Torque (p.u.)'\n",
    "ylabels['Edq0_0'] = 'Ed_t (p.u.)'\n",
    "ylabels['Edq0_1'] = 'Eq_t (p.u.)'\n",
    "ylabels['Vdq0_0'] = 'Vd (p.u.)'\n",
    "ylabels['Vdq0_1'] = 'Vq (p.u.)'\n",
    "ylabels['Idq0_0'] = 'Id (p.u.)'\n",
    "ylabels['Idq0_1'] = 'Iq (p.u.)'\n",
    "ylabels['delta'] = 'Delta (rad)'\n",
    "ylabels['w_r'] = 'w_r (p.u.)'\n",
    "ylabels['Ef'] = 'Ef (p.u.)'"
   ]
  },
  {
   "cell_type": "markdown",
   "id": "innovative-porter",
   "metadata": {},
   "source": [
    "### Declare plot function"
   ]
  },
  {
   "cell_type": "code",
   "execution_count": null,
   "id": "respected-guinea",
   "metadata": {},
   "outputs": [],
   "source": [
    "timestep_common = 10e-6\n",
    "t_begin=0\n",
    "t_end=20\n",
    "begin_idx = int(t_begin/timestep_common)\n",
    "end_idx= int(t_end/timestep_common)\n",
    "\n",
    "#plot Results\n",
    "width = 12\n",
    "height = 4\n",
    "\n",
    "def plot_variable(title, varname_dpsim, varname_psat, ts_dpsim, ts_psat, nominal_values, ylabels):\n",
    "    fig1 = plt.figure(figsize=(width, height))\n",
    "    plt.plot(ts_dpsim[varname_dpsim].interpolate(timestep_common).time[begin_idx:end_idx], ts_dpsim[varname_dpsim].interpolate(timestep_common).values[begin_idx:end_idx], label='DPSim')\n",
    "    plt.plot(ts_psat[varname_psat].interpolate(timestep_common).time[begin_idx:end_idx], ts_psat[varname_psat].interpolate(timestep_common).values[begin_idx:end_idx], '--', label='PSAT')\n",
    "    plt.legend(loc='lower right')\n",
    "    plt.xlabel('time (s)')\n",
    "    plt.ylabel(ylabels[varname_dpsim])\n",
    "    plt.grid()\n",
    "    plt.xlim([0, 10])\n",
    "    plt.show\n",
    "    \n",
    "    #calculate RMSE\n",
    "    nom_value = nominal_values[varname_dpsim]\n",
    "    rmse = ts_dpsim[varname_dpsim].rmse(ts_dpsim[varname_dpsim].interpolate(timestep_common), ts_psat[varname_psat].interpolate(timestep_common))\n",
    "    print('RMSE {:s}  = {:.6f} (pu), which is {:.3f}% of the nominal value = {:.3f} (pu) '.format(varname_dpsim, rmse, rmse/nom_value*100, nom_value))\n",
    "        \n",
    "    return rmse/nom_value*100\n",
    "\n",
    "def plot_node_volt_abs(varname_dpsim, varname_psat, ts_dpsim, ts_psat, nominal_voltage, ylabels):\n",
    "    \n",
    "    #convert dpsim voltage to magnitude value and per-unit for comparison with psat\n",
    "    ts_dpsim_abs_pu = TimeSeries(varname_dpsim+'_abs_pu', ts_dpsim[varname_dpsim].interpolate(timestep_common).time, ts_dpsim[varname_dpsim].interpolate(timestep_common).abs().values/nominal_voltage)\n",
    "    \n",
    "    fig1 = plt.figure(figsize=(width, height))\n",
    "    plt.plot(ts_dpsim_abs_pu.time[begin_idx:end_idx], ts_dpsim_abs_pu.values[begin_idx:end_idx], label='DPSim')\n",
    "    plt.plot(ts_psat[varname_psat].interpolate(timestep_common).time[begin_idx:end_idx], ts_psat[varname_psat].interpolate(timestep_common).values[begin_idx:end_idx], '--', label='PSAT')\n",
    "    plt.legend(loc='lower right')\n",
    "    plt.xlabel('time (s)')\n",
    "    plt.show\n",
    "      \n",
    "     #calculate RMSE\n",
    "    rmse = ts_dpsim[varname_dpsim].rmse(ts_dpsim_abs_pu, ts_psat[varname_psat].interpolate(timestep_common))\n",
    "    print('RMSE {:s}  = {:.6f} (pu), which is {:.3f}% of the nominal value = {:.3f} (pu) '.format(varname_dpsim, rmse, rmse/1.0*100, 1.0))\n",
    "        \n",
    "    return rmse/1.0*100\n",
    "\n",
    "\n",
    "def plot_node_volt_angle(varname_dpsim, varname_psat, ts_dpsim, ts_psat, nominal_voltage, ylabels):\n",
    "    #limit rmse to post-fault evaluation\n",
    "    t_post_begin=1.1\n",
    "    t_post_end=20\n",
    "    begin_post_idx = int(t_post_begin/timestep_common)\n",
    "    end_post_idx= int(t_post_end/timestep_common)\n",
    "    \n",
    "    #convert psat angle to deg and in range from\n",
    "    ts_psat_deg = TimeSeries(varname_psat+'_deg', ts_psat[varname_psat].interpolate(timestep_common).time, ts_psat[varname_psat].interpolate(timestep_common).values/np.pi*180)\n",
    "        \n",
    "    fig2 = plt.figure(figsize=(width, height))\n",
    "    plt.plot(ts_dpsim[varname_dpsim].interpolate(timestep_common).time[begin_idx:end_idx], ts_dpsim[varname_dpsim].interpolate(timestep_common).phase().values[begin_idx:end_idx], label='DPSim')\n",
    "    plt.plot(ts_psat_deg.time[begin_idx:end_idx], ts_psat_deg.values[begin_idx:end_idx], '--', label='PSAT')\n",
    "    plt.legend(loc='lower right')\n",
    "    plt.xlabel('time (s)')\n",
    "    plt.show\n",
    "    \n",
    "     #calculate RMSE\n",
    "    ts_dpsim_deg_post = TimeSeries(varname_dpsim+'_deg_post', ts_dpsim[varname_dpsim].interpolate(timestep_common).time[begin_post_idx:end_post_idx], ts_dpsim[varname_dpsim].interpolate(timestep_common).phase().values[begin_post_idx:end_post_idx])\n",
    "    ts_psat_deg_post = TimeSeries(varname_psat+'_deg_post', ts_psat_deg.time[begin_post_idx:end_post_idx], ts_psat_deg.values[begin_post_idx:end_post_idx])\n",
    "    rmse = ts_dpsim[varname_dpsim].rmse(ts_dpsim_deg_post, ts_psat_deg_post)\n",
    "    print('RMSE Post-Fault {:s}  = {:.6f} (deg)'.format(varname_dpsim, rmse))\n",
    "        \n",
    "    return rmse"
   ]
  },
  {
   "cell_type": "markdown",
   "id": "technological-administration",
   "metadata": {},
   "source": [
    "### Validation of electrical and mechanical quantities"
   ]
  },
  {
   "cell_type": "markdown",
   "id": "american-patrol",
   "metadata": {},
   "source": [
    "#### Electrical Torque"
   ]
  },
  {
   "cell_type": "code",
   "execution_count": null,
   "id": "productive-international",
   "metadata": {},
   "outputs": [],
   "source": [
    "varname_dpsim = \"Te\"\n",
    "varname_psat = \"p\"\n",
    "\n",
    "rmse_torque = plot_variable(titles, varname_dpsim, varname_psat, ts_dpsim_4Order, ts_psat_4Order, nominal_values, ylabels)"
   ]
  },
  {
   "cell_type": "markdown",
   "id": "hungarian-david",
   "metadata": {},
   "source": [
    "#### Exciter Output"
   ]
  },
  {
   "cell_type": "code",
   "execution_count": null,
   "id": "labeled-internet",
   "metadata": {},
   "outputs": [],
   "source": [
    "varname_dpsim = \"Ef\"\n",
    "varname_psat = \"vf\"\n",
    "\n",
    "rmse_ef = plot_variable(titles, varname_dpsim, varname_psat, ts_dpsim_4Order, ts_psat_4Order, nominal_values, ylabels)"
   ]
  },
  {
   "cell_type": "markdown",
   "id": "integral-demand",
   "metadata": {},
   "source": [
    "#### $E_d^{'}$"
   ]
  },
  {
   "cell_type": "code",
   "execution_count": null,
   "id": "national-parliament",
   "metadata": {},
   "outputs": [],
   "source": [
    "varname_dpsim = \"Edq0_0\"\n",
    "varname_psat = \"ed_t\"\n",
    "\n",
    "rmse_ed = plot_variable(titles, varname_dpsim, varname_psat, ts_dpsim_4Order, ts_psat_4Order, nominal_values, ylabels)"
   ]
  },
  {
   "cell_type": "markdown",
   "id": "civil-hacker",
   "metadata": {},
   "source": [
    "#### $E_q^{'}$"
   ]
  },
  {
   "cell_type": "code",
   "execution_count": null,
   "id": "opponent-hughes",
   "metadata": {},
   "outputs": [],
   "source": [
    "varname_dpsim = \"Edq0_1\"\n",
    "varname_psat = \"eq_t\"\n",
    "\n",
    "rmse_eq = plot_variable(titles, varname_dpsim, varname_psat, ts_dpsim_4Order, ts_psat_4Order, nominal_values, ylabels)"
   ]
  },
  {
   "cell_type": "markdown",
   "id": "failing-lotus",
   "metadata": {},
   "source": [
    "#### $V_d$"
   ]
  },
  {
   "cell_type": "code",
   "execution_count": null,
   "id": "fuzzy-passenger",
   "metadata": {},
   "outputs": [],
   "source": [
    "varname_dpsim = \"Vdq0_0\"\n",
    "varname_psat = \"vd\"\n",
    "\n",
    "rmse_vd = plot_variable(titles, varname_dpsim, varname_psat, ts_dpsim_4Order, ts_psat_4Order, nominal_values, ylabels)"
   ]
  },
  {
   "cell_type": "markdown",
   "id": "sensitive-daisy",
   "metadata": {},
   "source": [
    "#### $V_q$"
   ]
  },
  {
   "cell_type": "code",
   "execution_count": null,
   "id": "executive-delay",
   "metadata": {},
   "outputs": [],
   "source": [
    "varname_dpsim = \"Vdq0_1\"\n",
    "varname_psat = \"vq\"\n",
    "\n",
    "rmse_vq = plot_variable(titles, varname_dpsim, varname_psat, ts_dpsim_4Order, ts_psat_4Order, nominal_values, ylabels)"
   ]
  },
  {
   "cell_type": "markdown",
   "id": "persistent-scanner",
   "metadata": {},
   "source": [
    "#### $I_d$"
   ]
  },
  {
   "cell_type": "code",
   "execution_count": null,
   "id": "ranging-gardening",
   "metadata": {},
   "outputs": [],
   "source": [
    "varname_dpsim = \"Idq0_0\"\n",
    "varname_psat = \"id\"\n",
    "\n",
    "rmse_id = plot_variable(titles, varname_dpsim, varname_psat, ts_dpsim_4Order, ts_psat_4Order, nominal_values, ylabels)"
   ]
  },
  {
   "cell_type": "markdown",
   "id": "outdoor-defense",
   "metadata": {},
   "source": [
    "#### $I_q$"
   ]
  },
  {
   "cell_type": "code",
   "execution_count": null,
   "id": "attended-mailing",
   "metadata": {},
   "outputs": [],
   "source": [
    "varname_dpsim = \"Vdq0_1\"\n",
    "varname_psat = \"vq\"\n",
    "\n",
    "rmse_iq = plot_variable(titles, varname_dpsim, varname_psat, ts_dpsim_4Order, ts_psat_4Order, nominal_values, ylabels)"
   ]
  },
  {
   "cell_type": "markdown",
   "id": "assisted-cincinnati",
   "metadata": {},
   "source": [
    "#### Delta"
   ]
  },
  {
   "cell_type": "code",
   "execution_count": null,
   "id": "unable-indian",
   "metadata": {},
   "outputs": [],
   "source": [
    "varname_dpsim = \"delta\"\n",
    "varname_psat = \"delta\"\n",
    "\n",
    "rmse_delta = plot_variable(titles, varname_dpsim, varname_psat, ts_dpsim_4Order, ts_psat_4Order, nominal_values, ylabels)"
   ]
  },
  {
   "cell_type": "markdown",
   "id": "sensitive-sphere",
   "metadata": {},
   "source": [
    "#### Mechanical Omega"
   ]
  },
  {
   "cell_type": "code",
   "execution_count": null,
   "id": "secure-thompson",
   "metadata": {},
   "outputs": [],
   "source": [
    "varname_dpsim = \"w_r\"\n",
    "varname_psat = \"omega\"\n",
    "\n",
    "rmse_omega = plot_variable(titles, varname_dpsim, varname_psat, ts_dpsim_4Order, ts_psat_4Order, nominal_values, ylabels)"
   ]
  },
  {
   "cell_type": "markdown",
   "id": "coordinate-cream",
   "metadata": {},
   "source": [
    "#### Grid voltages"
   ]
  },
  {
   "cell_type": "code",
   "execution_count": null,
   "id": "celtic-retailer",
   "metadata": {},
   "outputs": [],
   "source": [
    "varname_dpsim = \"v1\"\n",
    "varname_psat = \"V_Bus1\"\n",
    "\n",
    "rmse_v1_abs = plot_node_volt_abs(varname_dpsim, varname_psat, ts_dpsim_4Order, ts_psat_4Order, nominal_grid_voltage, ylabels)"
   ]
  },
  {
   "cell_type": "code",
   "execution_count": null,
   "id": "aware-vehicle",
   "metadata": {},
   "outputs": [],
   "source": [
    "varname_dpsim = \"v1\"\n",
    "varname_psat = \"theta_bus1\"\n",
    "\n",
    "rmse_v1_angle = plot_node_volt_angle(varname_dpsim, varname_psat, ts_dpsim_4Order, ts_psat_4Order, nominal_grid_voltage, ylabels)"
   ]
  },
  {
   "cell_type": "code",
   "execution_count": null,
   "id": "architectural-union",
   "metadata": {},
   "outputs": [],
   "source": [
    "varname_dpsim = \"v2\"\n",
    "varname_psat = \"V_Bus3\"\n",
    "\n",
    "rmse_v2_abs = plot_node_volt_abs(varname_dpsim, varname_psat, ts_dpsim_4Order, ts_psat_4Order, nominal_grid_voltage, ylabels)"
   ]
  },
  {
   "cell_type": "code",
   "execution_count": null,
   "id": "orange-lesson",
   "metadata": {},
   "outputs": [],
   "source": [
    "varname_dpsim = \"v2\"\n",
    "varname_psat = \"theta_bus3\"\n",
    "\n",
    "rmse_v2_angle = plot_node_volt_angle(varname_dpsim, varname_psat, ts_dpsim_4Order, ts_psat_4Order, nominal_grid_voltage, ylabels)"
   ]
  },
  {
   "cell_type": "markdown",
   "id": "comparable-career",
   "metadata": {},
   "source": [
    "#### Assert"
   ]
  },
  {
   "cell_type": "code",
   "execution_count": null,
   "id": "developing-gregory",
   "metadata": {},
   "outputs": [],
   "source": [
    "tol = 1 # %\n",
    "tol_id = 6\n",
    "tol_deg_v1 = 0.02 # deg\n",
    "tol_deg_v2 = 1e-12 # deg\n",
    "\n",
    "assert(rmse_torque<tol)\n",
    "assert(rmse_ef<tol)\n",
    "assert(rmse_ed<tol)\n",
    "assert(rmse_eq<tol)\n",
    "assert(rmse_vd<tol)\n",
    "assert(rmse_vq<tol)\n",
    "assert(rmse_id<tol_id)\n",
    "assert(rmse_iq<tol)\n",
    "assert(rmse_delta<tol)\n",
    "assert(rmse_omega<tol)\n",
    "assert(rmse_v1_abs<tol)\n",
    "assert(rmse_v2_abs<tol)\n",
    "#assert(rmse_v1_angle<tol_deg_v1)\n",
    "assert(rmse_v2_angle<tol_deg_v2)"
   ]
  },
  {
   "cell_type": "markdown",
   "id": "79cd971b-ab74-4275-a0b0-559e982766df",
   "metadata": {},
   "source": [
    "## 3. Run C++ Examples with Governor"
   ]
  },
  {
   "cell_type": "code",
   "execution_count": null,
   "id": "seven-malaysia",
   "metadata": {},
   "outputs": [],
   "source": [
    "import os\n",
    "import subprocess\n",
    "\n",
    "#%matplotlib widget\n",
    "\n",
    "name = 'SP_ReducedOrderSG_SMIB_Fault'\n",
    "options = ['SGModel=4']\n",
    "\n",
    "dpsim_path = subprocess.Popen(['git', 'rev-parse', '--show-toplevel'], stdout=subprocess.PIPE).communicate()[0].rstrip().decode('utf-8')\n",
    "\n",
    "path_exec = dpsim_path + '/build/dpsim/examples/cxx/'\n",
    "for i in range(len(options)):\n",
    "    sim = subprocess.Popen([path_exec + name, '-o', options[i], '-oWithTurbineGovernor=true',  '-oFinalTime=10'], stdout=subprocess.PIPE, stderr=subprocess.STDOUT)\n",
    "    print(sim.communicate()[0].decode())"
   ]
  },
  {
   "cell_type": "markdown",
   "id": "da858f2b-4c7f-40f5-a730-ce163df83527",
   "metadata": {},
   "source": [
    "### Load DPSim Results"
   ]
  },
  {
   "cell_type": "code",
   "execution_count": null,
   "id": "f8d7f475-2fc4-4ff1-ac8c-75f9c9147c08",
   "metadata": {},
   "outputs": [],
   "source": [
    "from villas.dataprocessing.readtools import *\n",
    "from villas.dataprocessing.timeseries import *\n",
    "import matplotlib.pyplot as plt\n",
    "import re\n",
    "import numpy as np\n",
    "import math\n",
    "import os\n",
    "\n",
    "work_dir = os.getcwd() + \"/logs/\"\n",
    "file_name_4Order = 'SP_SynGen4Order_VBR_SMIB_Fault'\n",
    "\n",
    "path_logfile = work_dir + file_name_4Order + \"/\" + file_name_4Order + \".csv\"\n",
    "ts_dpsim_4Order = read_timeseries_dpsim(path_logfile)"
   ]
  },
  {
   "cell_type": "markdown",
   "id": "44217f62-e73c-48f9-a564-354e4f98426d",
   "metadata": {},
   "source": [
    "### Load PSAT Results"
   ]
  },
  {
   "cell_type": "code",
   "execution_count": null,
   "id": "e55082b5-d3ca-48c7-a19b-8eeece5f25a9",
   "metadata": {},
   "outputs": [],
   "source": [
    "import urllib.request\n",
    "\n",
    "if not os.path.exists('reference-results'):\n",
    "    os.mkdir('reference-results')\n",
    "\n",
    "url = 'https://git.rwth-aachen.de/acs/public/simulation/reference-results/-/raw/master/PSAT/SMIB-Fault/PSAT_4OrderSyGen_withGovernor_SMIB_Fault_100mS_TS_1mS.txt'\n",
    "local_file_4Order = 'reference-results/PSAT_4OrderSyGen_withExciter_SMIB_Fault_100mS_TS_1mS.out'\n",
    "urllib.request.urlretrieve(url, local_file_4Order)\n",
    "ts_psat_4Order = read_timeseries_dpsim(local_file_4Order)"
   ]
  },
  {
   "cell_type": "markdown",
   "id": "2e6e10ed-8254-4f87-bfe6-e50183133da8",
   "metadata": {},
   "source": [
    "### Calculate $V_d$, $V_q$, $I_d$ and $I_q$ in PSAT"
   ]
  },
  {
   "cell_type": "code",
   "execution_count": null,
   "id": "40e83286-375e-48b6-bb5d-62683a225053",
   "metadata": {},
   "outputs": [],
   "source": [
    "#calculate vd and vq\n",
    "angle = ts_psat_4Order['delta'].values - ts_psat_4Order['theta_bus1'].values\n",
    "V_bus1 = ts_psat_4Order['V_Bus1'].values\n",
    "vd = V_bus1 * np.sin(angle)\n",
    "ts_psat_4Order['vd'] = TimeSeries('vd', ts_psat_4Order['V_Bus1'].time, vd)\n",
    "vq = V_bus1 * np.cos(angle)\n",
    "ts_psat_4Order['vq'] = TimeSeries('vq', ts_psat_4Order['V_Bus1'].time, vq)\n",
    "    \n",
    "#calculate id and iq in PSAT\n",
    "Xd = 0.299900\n",
    "Xq = 0.650000\n",
    "i_d = (ts_psat_4Order['eq_t'].values - ts_psat_4Order['vq'].values) / Xd\n",
    "ts_psat_4Order['id'] = TimeSeries('id', ts_psat_4Order['eq_t'].time, i_d)\n",
    "i_q = -(ts_psat_4Order['ed_t'].values - ts_psat_4Order['vd'].values) / Xq\n",
    "ts_psat_4Order['iq'] = TimeSeries('iq', ts_psat_4Order['ed_t'].time, i_q)"
   ]
  },
  {
   "cell_type": "markdown",
   "id": "2e696445-d626-4da1-8d9e-e0142cd0e817",
   "metadata": {},
   "source": [
    "### Nominal values"
   ]
  },
  {
   "cell_type": "code",
   "execution_count": null,
   "id": "1d1545c0-7ece-45ff-bb5a-17f0cdb0454b",
   "metadata": {},
   "outputs": [],
   "source": [
    "#nominal values (per unit)\n",
    "nominal_values = {}\n",
    "nominal_values['Te'] = 0.540541\n",
    "nominal_values['Tm'] = 0.540541\n",
    "nominal_values['Edq0_0'] = 0.403062     #4th order model\n",
    "nominal_values['Edq0_1'] = 0.944802     #3th and 4th order model\n",
    "nominal_values['Vdq0_0'] = 0.639089\n",
    "nominal_values['Vdq0_1'] = 0.833106\n",
    "nominal_values['Idq0_0'] = 0.372443\n",
    "nominal_values['Idq0_1'] = 0.363119\n",
    "nominal_values['delta'] = 0.909230\n",
    "nominal_values['w_r'] = 1.0\n",
    "nominal_values['Ef'] = 1.507191\n",
    "nominal_grid_voltage = 24e3\n",
    "\n",
    "#\n",
    "titles = {}\n",
    "titles['Te'] = 'Electrical Torque'\n",
    "titles['Tm'] = 'Mechanical Torque'\n",
    "titles['Edq0_0'] = 'd-component of the voltage behind the transient reactance'\n",
    "titles['Edq0_1'] = 'q-component of the voltage behind the transient reactance'\n",
    "titles['Vdq0_0'] = 'd-component of the terminal voltage'\n",
    "titles['Vdq0_1'] = 'q-component of the terminal voltage'\n",
    "titles['Idq0_0'] = 'd-component of the terminal current'\n",
    "titles['Idq0_1'] = 'q-component of the terminal current'\n",
    "titles['delta'] = 'Delta'\n",
    "titles['w_r'] = 'Mechanical Omega'\n",
    "titles['Ef'] = 'Exciter Output'\n",
    "\n",
    "#\n",
    "ylabels = {}\n",
    "ylabels['Te'] = 'Torque (p.u.)'\n",
    "ylabels['Tm'] = 'Torque (p.u.)'\n",
    "ylabels['Edq0_0'] = 'Ed_t (p.u.)'\n",
    "ylabels['Edq0_1'] = 'Eq_t (p.u.)'\n",
    "ylabels['Vdq0_0'] = 'Vd (p.u.)'\n",
    "ylabels['Vdq0_1'] = 'Vq (p.u.)'\n",
    "ylabels['Idq0_0'] = 'Id (p.u.)'\n",
    "ylabels['Idq0_1'] = 'Iq (p.u.)'\n",
    "ylabels['delta'] = 'Delta (rad)'\n",
    "ylabels['w_r'] = 'w_r (p.u.)'\n",
    "ylabels['Ef'] = 'vf (p.u.)'"
   ]
  },
  {
   "cell_type": "markdown",
   "id": "b2e90cbc-7020-4040-92a5-58c30098a2be",
   "metadata": {},
   "source": [
    "### Declare plot function"
   ]
  },
  {
   "cell_type": "code",
   "execution_count": null,
   "id": "a4afbda1-4263-4ad9-afed-a8e3ca736468",
   "metadata": {},
   "outputs": [],
   "source": [
    "timestep_common = 10e-6\n",
    "t_begin=0\n",
    "t_end=20\n",
    "begin_idx = int(t_begin/timestep_common)\n",
    "end_idx= int(t_end/timestep_common)\n",
    "\n",
    "#plot Results\n",
    "width = 12\n",
    "height = 4\n",
    "\n",
    "def plot_variable(title, varname_dpsim, varname_psat, ts_dpsim, ts_psat, nominal_values, ylabels):\n",
    "    fig1 = plt.figure(figsize=(width, height))\n",
    "    plt.plot(ts_dpsim[varname_dpsim].interpolate(timestep_common).time[begin_idx:end_idx], ts_dpsim[varname_dpsim].interpolate(timestep_common).values[begin_idx:end_idx], label='DPSim')\n",
    "    plt.plot(ts_psat[varname_psat].interpolate(timestep_common).time[begin_idx:end_idx], ts_psat[varname_psat].interpolate(timestep_common).values[begin_idx:end_idx], '--', label='PSAT')\n",
    "    plt.legend(loc='lower right')\n",
    "    plt.xlabel('time (s)')\n",
    "    plt.ylabel(ylabels[varname_dpsim])\n",
    "    plt.grid()\n",
    "    plt.xlim([0, 10])\n",
    "    plt.show\n",
    "    \n",
    "    #calculate RMSE\n",
    "    nom_value = nominal_values[varname_dpsim]\n",
    "    rmse = ts_dpsim[varname_dpsim].rmse(ts_dpsim[varname_dpsim].interpolate(timestep_common), ts_psat[varname_psat].interpolate(timestep_common))\n",
    "    print('RMSE {:s}  = {:.6f} (pu), which is {:.3f}% of the nominal value = {:.3f} (pu) '.format(varname_dpsim, rmse, rmse/nom_value*100, nom_value))\n",
    "        \n",
    "    return rmse/nom_value*100\n",
    "\n",
    "def plot_node_volt_abs(varname_dpsim, varname_psat, ts_dpsim, ts_psat, nominal_voltage, ylabels):\n",
    "    \n",
    "    #convert dpsim voltage to magnitude value and per-unit for comparison with psat\n",
    "    ts_dpsim_abs_pu = TimeSeries(varname_dpsim+'_abs_pu', ts_dpsim[varname_dpsim].interpolate(timestep_common).time, ts_dpsim[varname_dpsim].interpolate(timestep_common).abs().values/nominal_voltage)\n",
    "    \n",
    "    fig1 = plt.figure(figsize=(width, height))\n",
    "    plt.plot(ts_dpsim_abs_pu.time[begin_idx:end_idx], ts_dpsim_abs_pu.values[begin_idx:end_idx], label='DPSim')\n",
    "    plt.plot(ts_psat[varname_psat].interpolate(timestep_common).time[begin_idx:end_idx], ts_psat[varname_psat].interpolate(timestep_common).values[begin_idx:end_idx], '--', label='PSAT')\n",
    "    plt.legend(loc='lower right')\n",
    "    plt.xlabel('time (s)')\n",
    "    plt.show\n",
    "      \n",
    "     #calculate RMSE\n",
    "    rmse = ts_dpsim[varname_dpsim].rmse(ts_dpsim_abs_pu, ts_psat[varname_psat].interpolate(timestep_common))\n",
    "    print('RMSE {:s}  = {:.6f} (pu), which is {:.3f}% of the nominal value = {:.3f} (pu) '.format(varname_dpsim, rmse, rmse/1.0*100, 1.0))\n",
    "        \n",
    "    return rmse/1.0*100\n",
    "\n",
    "\n",
    "def plot_node_volt_angle(varname_dpsim, varname_psat, ts_dpsim, ts_psat, nominal_voltage, ylabels):\n",
    "    #limit rmse to post-fault evaluation\n",
    "    t_post_begin=1.1\n",
    "    t_post_end=20\n",
    "    begin_post_idx = int(t_post_begin/timestep_common)\n",
    "    end_post_idx= int(t_post_end/timestep_common)\n",
    "    \n",
    "    #convert psat angle to deg and in range from\n",
    "    ts_psat_deg = TimeSeries(varname_psat+'_deg', ts_psat[varname_psat].interpolate(timestep_common).time, ts_psat[varname_psat].interpolate(timestep_common).values/np.pi*180)\n",
    "        \n",
    "    fig2 = plt.figure(figsize=(width, height))\n",
    "    plt.plot(ts_dpsim[varname_dpsim].interpolate(timestep_common).time[begin_idx:end_idx], ts_dpsim[varname_dpsim].interpolate(timestep_common).phase().values[begin_idx:end_idx], label='DPSim')\n",
    "    plt.plot(ts_psat_deg.time[begin_idx:end_idx], ts_psat_deg.values[begin_idx:end_idx], '--', label='PSAT')\n",
    "    plt.legend(loc='lower right')\n",
    "    plt.xlabel('time (s)')\n",
    "    plt.show\n",
    "    \n",
    "     #calculate RMSE\n",
    "    ts_dpsim_deg_post = TimeSeries(varname_dpsim+'_deg_post', ts_dpsim[varname_dpsim].interpolate(timestep_common).time[begin_post_idx:end_post_idx], ts_dpsim[varname_dpsim].interpolate(timestep_common).phase().values[begin_post_idx:end_post_idx])\n",
    "    ts_psat_deg_post = TimeSeries(varname_psat+'_deg_post', ts_psat_deg.time[begin_post_idx:end_post_idx], ts_psat_deg.values[begin_post_idx:end_post_idx])\n",
    "    rmse = ts_dpsim[varname_dpsim].rmse(ts_dpsim_deg_post, ts_psat_deg_post)\n",
    "    print('RMSE Post-Fault {:s}  = {:.6f} (deg)'.format(varname_dpsim, rmse))\n",
    "        \n",
    "    return rmse"
   ]
  },
  {
   "cell_type": "markdown",
   "id": "2f8110aa-48cf-4aae-ab74-070c2bce4b44",
   "metadata": {},
   "source": [
    "### Validation of electrical and mechanical quantities"
   ]
  },
  {
   "cell_type": "markdown",
   "id": "8e4e23d0-c60e-4cf3-b39c-2063eedc856d",
   "metadata": {},
   "source": [
    "#### Electrical Torque"
   ]
  },
  {
   "cell_type": "code",
   "execution_count": null,
   "id": "1c607ca1-f3b6-4c4f-9ef1-0d4fdddec6b0",
   "metadata": {},
   "outputs": [],
   "source": [
    "varname_dpsim = \"Te\"\n",
    "varname_psat = \"p\"\n",
    "\n",
    "rmse_etorque = plot_variable(titles, varname_dpsim, varname_psat, ts_dpsim_4Order, ts_psat_4Order, nominal_values, ylabels)"
   ]
  },
  {
   "cell_type": "markdown",
   "id": "26ff7c1a-247d-4872-bc19-1b0eb4601191",
   "metadata": {},
   "source": [
    "#### Mechanical Torque"
   ]
  },
  {
   "cell_type": "code",
   "execution_count": null,
   "id": "f3a6ad16-6c25-486a-aa45-60b907c45d6f",
   "metadata": {},
   "outputs": [],
   "source": [
    "varname_dpsim = \"Tm\"\n",
    "varname_psat = \"pm\"\n",
    "\n",
    "rmse_mtorque = plot_variable(titles, varname_dpsim, varname_psat, ts_dpsim_4Order, ts_psat_4Order, nominal_values, ylabels)"
   ]
  },
  {
   "cell_type": "markdown",
   "id": "3e56c789-d94c-48e9-aa26-f82023e1c20f",
   "metadata": {},
   "source": [
    "#### $E_d^{'}$"
   ]
  },
  {
   "cell_type": "code",
   "execution_count": null,
   "id": "cf593b1e-c8ae-4369-817e-4860b2a87e1a",
   "metadata": {},
   "outputs": [],
   "source": [
    "varname_dpsim = \"Edq0_0\"\n",
    "varname_psat = \"ed_t\"\n",
    "\n",
    "rmse_ed = plot_variable(titles, varname_dpsim, varname_psat, ts_dpsim_4Order, ts_psat_4Order, nominal_values, ylabels)"
   ]
  },
  {
   "cell_type": "markdown",
   "id": "621fce12-0a89-4db3-a029-28691a104845",
   "metadata": {},
   "source": [
    "#### $E_q^{'}$"
   ]
  },
  {
   "cell_type": "code",
   "execution_count": null,
   "id": "40cb41fb-b0d3-4eef-9566-93e2b68fcca5",
   "metadata": {},
   "outputs": [],
   "source": [
    "varname_dpsim = \"Edq0_1\"\n",
    "varname_psat = \"eq_t\"\n",
    "\n",
    "rmse_eq = plot_variable(titles, varname_dpsim, varname_psat, ts_dpsim_4Order, ts_psat_4Order, nominal_values, ylabels)"
   ]
  },
  {
   "cell_type": "markdown",
   "id": "5f9a5536-dba8-4cd5-b520-0ede3528bf4f",
   "metadata": {},
   "source": [
    "#### $V_d^{'}$"
   ]
  },
  {
   "cell_type": "code",
   "execution_count": null,
   "id": "ac31943e-8107-4dbd-af34-21a32a128313",
   "metadata": {},
   "outputs": [],
   "source": [
    "varname_dpsim = \"Vdq0_0\"\n",
    "varname_psat = \"vd\"\n",
    "\n",
    "rmse_vd = plot_variable(titles, varname_dpsim, varname_psat, ts_dpsim_4Order, ts_psat_4Order, nominal_values, ylabels)"
   ]
  },
  {
   "cell_type": "markdown",
   "id": "2fa39790-1a3e-4895-8bac-a4ca0f3338d0",
   "metadata": {},
   "source": [
    "#### $V_q^{'}$"
   ]
  },
  {
   "cell_type": "code",
   "execution_count": null,
   "id": "9cc39929-2536-45d6-8e8f-42258612ce0b",
   "metadata": {},
   "outputs": [],
   "source": [
    "varname_dpsim = \"Vdq0_1\"\n",
    "varname_psat = \"vq\"\n",
    "\n",
    "rmse_vq = plot_variable(titles, varname_dpsim, varname_psat, ts_dpsim_4Order, ts_psat_4Order, nominal_values, ylabels)"
   ]
  },
  {
   "cell_type": "markdown",
   "id": "eb195100-95be-4512-9f60-f6036a21b37a",
   "metadata": {},
   "source": [
    "#### $I_d$"
   ]
  },
  {
   "cell_type": "code",
   "execution_count": null,
   "id": "e49254ff-0fc5-4e0b-81a9-9b28787b758e",
   "metadata": {},
   "outputs": [],
   "source": [
    "varname_dpsim = \"Idq0_0\"\n",
    "varname_psat = \"id\"\n",
    "\n",
    "rmse_id = plot_variable(titles, varname_dpsim, varname_psat, ts_dpsim_4Order, ts_psat_4Order, nominal_values, ylabels)"
   ]
  },
  {
   "cell_type": "markdown",
   "id": "c810f1ea-1dfc-47a6-8e87-668b5a3b1db2",
   "metadata": {},
   "source": [
    "#### $I_q$"
   ]
  },
  {
   "cell_type": "code",
   "execution_count": null,
   "id": "79af1d57-0056-412e-9af0-27429ccc1288",
   "metadata": {},
   "outputs": [],
   "source": [
    "varname_dpsim = \"Idq0_1\"\n",
    "varname_psat = \"iq\"\n",
    "\n",
    "rmse_iq = plot_variable(titles, varname_dpsim, varname_psat, ts_dpsim_4Order, ts_psat_4Order, nominal_values, ylabels)"
   ]
  },
  {
   "cell_type": "markdown",
   "id": "f7c06d89-5fac-4a58-8ae3-34c5c6a017ab",
   "metadata": {},
   "source": [
    "#### Delta"
   ]
  },
  {
   "cell_type": "code",
   "execution_count": null,
   "id": "344b3f2f-9e7a-4ece-984a-a4850f54b699",
   "metadata": {},
   "outputs": [],
   "source": [
    "varname_dpsim = \"delta\"\n",
    "varname_psat = \"delta\"\n",
    "\n",
    "rmse_delta = plot_variable(titles, varname_dpsim, varname_psat, ts_dpsim_4Order, ts_psat_4Order, nominal_values, ylabels)"
   ]
  },
  {
   "cell_type": "markdown",
   "id": "2736d5a0-9897-42cd-a76d-00c3b7fdd3f1",
   "metadata": {},
   "source": [
    "#### Mechanical Omega"
   ]
  },
  {
   "cell_type": "code",
   "execution_count": null,
   "id": "4c1dd57f-dc2a-4a03-8d46-4338ac8c7b74",
   "metadata": {},
   "outputs": [],
   "source": [
    "varname_dpsim = \"w_r\"\n",
    "varname_psat = \"omega\"\n",
    "\n",
    "rmse_omega = plot_variable(titles, varname_dpsim, varname_psat, ts_dpsim_4Order, ts_psat_4Order, nominal_values, ylabels)"
   ]
  },
  {
   "cell_type": "markdown",
   "id": "31dd17b6-b599-45bc-baf0-d346f9b4a9dd",
   "metadata": {},
   "source": [
    "#### Grid voltages"
   ]
  },
  {
   "cell_type": "code",
   "execution_count": null,
   "id": "112fb94f-3e70-4936-b10e-b22626a9a5ba",
   "metadata": {},
   "outputs": [],
   "source": [
    "varname_dpsim = \"v1\"\n",
    "varname_psat = \"V_Bus1\"\n",
    "\n",
    "rmse_v1_abs = plot_node_volt_abs(varname_dpsim, varname_psat, ts_dpsim_4Order, ts_psat_4Order, nominal_grid_voltage, ylabels)"
   ]
  },
  {
   "cell_type": "code",
   "execution_count": null,
   "id": "5e552b01-348f-42a7-9eeb-9da149feb78a",
   "metadata": {},
   "outputs": [],
   "source": [
    "varname_dpsim = \"v1\"\n",
    "varname_psat = \"theta_bus1\"\n",
    "\n",
    "rmse_v1_angle = plot_node_volt_angle(varname_dpsim, varname_psat, ts_dpsim_4Order, ts_psat_4Order, nominal_grid_voltage, ylabels)"
   ]
  },
  {
   "cell_type": "code",
   "execution_count": null,
   "id": "eb96fc77-2cea-4c21-9555-93c54138a99e",
   "metadata": {},
   "outputs": [],
   "source": [
    "varname_dpsim = \"v2\"\n",
    "varname_psat = \"V_Bus3\"\n",
    "\n",
    "rmse_v2_abs = plot_node_volt_abs(varname_dpsim, varname_psat, ts_dpsim_4Order, ts_psat_4Order, nominal_grid_voltage, ylabels)"
   ]
  },
  {
   "cell_type": "code",
   "execution_count": null,
   "id": "a458a48f-2b77-4162-9f5c-a1842059b0ad",
   "metadata": {},
   "outputs": [],
   "source": [
    "varname_dpsim = \"v2\"\n",
    "varname_psat = \"theta_bus3\"\n",
    "\n",
    "rmse_v2_angle = plot_node_volt_angle(varname_dpsim, varname_psat, ts_dpsim_4Order, ts_psat_4Order, nominal_grid_voltage, ylabels)"
   ]
  },
  {
   "cell_type": "markdown",
   "id": "2645d55f-84f4-4696-8068-85eb205a3681",
   "metadata": {},
   "source": [
    "#### Assert"
   ]
  },
  {
   "cell_type": "code",
   "execution_count": null,
   "id": "b25af3b1-9d4a-4817-9bf0-8f89be8daf09",
   "metadata": {},
   "outputs": [],
   "source": [
    "tol = 1 # %\n",
    "tol_i = 6 # %\n",
    "tol_deg_v1 = 0.2 # deg\n",
    "tol_deg_v2 = 1e-12 # deg\n",
    "\n",
    "assert(rmse_etorque<tol)\n",
    "assert(rmse_mtorque<tol)\n",
    "assert(rmse_ed<tol)\n",
    "assert(rmse_eq<tol)\n",
    "assert(rmse_vd<tol)\n",
    "assert(rmse_vq<tol)\n",
    "assert(rmse_id<tol_i)\n",
    "assert(rmse_iq<tol_i)\n",
    "assert(rmse_delta<tol)\n",
    "assert(rmse_omega<tol)\n",
    "assert(rmse_v1_abs<tol)\n",
    "assert(rmse_v2_abs<tol)\n",
    "#assert(rmse_v1_angle<tol_deg_v1)\n",
    "assert(rmse_v2_angle<tol_deg_v2)"
   ]
  }
 ],
 "metadata": {
  "kernelspec": {
   "display_name": "Python 3 (ipykernel)",
   "language": "python",
   "name": "python3"
  },
  "language_info": {
   "codemirror_mode": {
    "name": "ipython",
    "version": 3
   },
   "file_extension": ".py",
   "mimetype": "text/x-python",
   "name": "python",
   "nbconvert_exporter": "python",
   "pygments_lexer": "ipython3",
   "version": "3.9.13"
  },
  "tests": {
   "skip": false
  },
  "vscode": {
   "interpreter": {
    "hash": "e7370f93d1d0cde622a1f8e1c04877d8463912d04d973331ad4851f04de6915a"
   }
  }
 },
 "nbformat": 4,
 "nbformat_minor": 5
}
