{
 "cells": [
  {
   "cell_type": "code",
   "execution_count": null,
   "metadata": {},
   "outputs": [],
   "source": [
    "import dpsim\n",
    "\n",
    "model_name = \"EMT_Ph1_SSN_RLC\";\n",
    "time_step = 0.0001;\n",
    "final_time = 0.1;\n",
    "\n",
    "# Nodes\n",
    "gnd = dpsim.emt.Node.GND()\n",
    "n1 = dpsim.emt.Node('n1')\n",
    "\n",
    "# Components\n",
    "vs = dpsim.emt.ph1.VoltageSource('vs')\n",
    "vs.V_ref = complex (10,0)\n",
    "vs.f_src = 0\n",
    "RLC = dpsim.emt.ph1.Full_Series_RLC('RLC')\n",
    "RLC.R = 1\n",
    "RLC.L = 0.05 \n",
    "RLC.C = 0.01\n",
    "\n",
    "# Assemble circuit\n",
    "vs.connect([gnd, n1])\n",
    "RLC.connect([n1, gnd])\n",
    "\n",
    "system = dpsim.SystemTopology(0, [gnd, n1], [vs, RLC])\n",
    "\n",
    "#Logging\n",
    "logger = dpsim.Logger(model_name)\n",
    "logger.log_attribute(n1, 'v');\n",
    "logger.log_attribute(RLC, 'i_intf');\n",
    "\n",
    "#Simulation\n",
    "sim = dpsim.Simulation(model_name, system, timestep=time_step, duration=final_time, pbar=True, sim_type=1, log_level=1)\n",
    "sim.add_logger(logger)\n",
    "\n",
    "sim.start()\n"
   ]
  },
  {
   "cell_type": "code",
   "execution_count": null,
   "metadata": {},
   "outputs": [],
   "source": [
    "#Plot Currents\n",
    "\n",
    "plt.close('all')\n",
    "fig1 = plt.figure()\n",
    "\n",
    "plt.plot(ts_dpsim_EMT['I_R'].time, ts_dpsim_EMT['I_R'].values, \"r-\", label='I_R')\n",
    "\n",
    "plt.plot(ts_dpsim_SSN_EMT['I_RLC_SSN'].time, ts_dpsim_SSN_EMT['I_RLC_SSN'].values, \"rx\", markevery=10, label='I_RLC_SSN')\n",
    "\n",
    "\n",
    "plt.legend(loc = 4)\n",
    "#plt.legend(bbox_to_anchor=(1,1))\n",
    "\n",
    "plt.title('Comparison of resistive companion and SSN simulation: RLC Current')\n",
    "plt.xlabel('t [s]')\n",
    "plt.ylabel('Current [A]')"
   ]
  }
 ],
 "metadata": {
  "language_info": {
   "name": "python"
  },
  "orig_nbformat": 4
 },
 "nbformat": 4,
 "nbformat_minor": 2
}
